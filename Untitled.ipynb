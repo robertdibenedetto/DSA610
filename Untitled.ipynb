{
 "cells": [
  {
   "cell_type": "code",
   "execution_count": 222,
   "id": "18a21550",
   "metadata": {},
   "outputs": [],
   "source": [
    "import pandas as pd\n",
    "pd.set_option('display.max_columns', None)"
   ]
  },
  {
   "cell_type": "code",
   "execution_count": 223,
   "id": "9e1a4dbc",
   "metadata": {},
   "outputs": [
    {
     "name": "stderr",
     "output_type": "stream",
     "text": [
      "<ipython-input-223-efad8115f259>:2: DtypeWarning: Columns (5,13) have mixed types. Specify dtype option on import or set low_memory=False.\n",
      "  listings_og = pd.read_csv(\"C:/Users/rober/OneDrive/Documents/Spring23/DSA610/AIRBNB/Airbnb Data/Listings.csv\", encoding=\"latin-1\")\n"
     ]
    }
   ],
   "source": [
    "## Data\n",
    "listings_og = pd.read_csv(\"C:/Users/rober/OneDrive/Documents/Spring23/DSA610/AIRBNB/Airbnb Data/Listings.csv\", encoding=\"latin-1\")\n",
    "reviews_og = pd.read_csv(\"C:/Users/rober/OneDrive/Documents/Spring23/DSA610/AIRBNB/Airbnb Data/Reviews.csv\")"
   ]
  },
  {
   "cell_type": "code",
   "execution_count": 224,
   "id": "01e3095d",
   "metadata": {},
   "outputs": [],
   "source": [
    "listings = listings_og.copy()\n",
    "reviews = reviews_og.copy()"
   ]
  },
  {
   "cell_type": "code",
   "execution_count": 225,
   "id": "b43e033a",
   "metadata": {},
   "outputs": [
    {
     "data": {
      "text/plain": [
       "(279712, 33)"
      ]
     },
     "execution_count": 225,
     "metadata": {},
     "output_type": "execute_result"
    }
   ],
   "source": [
    "listings_og.shape"
   ]
  },
  {
   "cell_type": "markdown",
   "id": "488ef6db",
   "metadata": {},
   "source": [
    "Paris - pounds 1.2566\n",
    "\n",
    "New York - $\n",
    "\n",
    "Sydney - Australian Dollar .6672\n",
    "\n",
    "Rome - Euro 1.106\n",
    "\n",
    "Rio De Janeiro - Brazilian Real .2004\n",
    "\n",
    "Istanbul - Turkish lira .0513\n",
    "\n",
    "Mexico City - Peso .0558\n",
    "\n",
    "Bangkok - Thai Baht .0295\n",
    "\n",
    "Cape Town - Rand .0547\n",
    "\n",
    "Hong Kong - Hong Kong Dollar .1274"
   ]
  },
  {
   "cell_type": "code",
   "execution_count": 226,
   "id": "e3b34e82",
   "metadata": {},
   "outputs": [
    {
     "data": {
      "text/plain": [
       "4450005"
      ]
     },
     "execution_count": 226,
     "metadata": {},
     "output_type": "execute_result"
    }
   ],
   "source": [
    "len(reviews_og['reviewer_id'].unique())"
   ]
  },
  {
   "cell_type": "code",
   "execution_count": 227,
   "id": "fc4c2687",
   "metadata": {},
   "outputs": [
    {
     "data": {
      "text/plain": [
       "0          2018-09-30\n",
       "1          2018-09-30\n",
       "2          2018-09-30\n",
       "3          2018-09-30\n",
       "4          2018-09-30\n",
       "              ...    \n",
       "5373138    2021-01-25\n",
       "5373139    2021-01-31\n",
       "5373140    2021-02-02\n",
       "5373141    2021-01-29\n",
       "5373142    2021-02-11\n",
       "Name: date, Length: 5373143, dtype: object"
      ]
     },
     "execution_count": 227,
     "metadata": {},
     "output_type": "execute_result"
    }
   ],
   "source": [
    "reviews_og.date"
   ]
  },
  {
   "cell_type": "code",
   "execution_count": 228,
   "id": "18f58997",
   "metadata": {},
   "outputs": [
    {
     "data": {
      "text/html": [
       "<div>\n",
       "<style scoped>\n",
       "    .dataframe tbody tr th:only-of-type {\n",
       "        vertical-align: middle;\n",
       "    }\n",
       "\n",
       "    .dataframe tbody tr th {\n",
       "        vertical-align: top;\n",
       "    }\n",
       "\n",
       "    .dataframe thead th {\n",
       "        text-align: right;\n",
       "    }\n",
       "</style>\n",
       "<table border=\"1\" class=\"dataframe\">\n",
       "  <thead>\n",
       "    <tr style=\"text-align: right;\">\n",
       "      <th></th>\n",
       "      <th>listing_id</th>\n",
       "      <th>name</th>\n",
       "      <th>host_id</th>\n",
       "      <th>host_since</th>\n",
       "      <th>host_location</th>\n",
       "      <th>host_response_time</th>\n",
       "      <th>host_response_rate</th>\n",
       "      <th>host_acceptance_rate</th>\n",
       "      <th>host_is_superhost</th>\n",
       "      <th>host_total_listings_count</th>\n",
       "      <th>host_has_profile_pic</th>\n",
       "      <th>host_identity_verified</th>\n",
       "      <th>neighbourhood</th>\n",
       "      <th>district</th>\n",
       "      <th>city</th>\n",
       "      <th>latitude</th>\n",
       "      <th>longitude</th>\n",
       "      <th>property_type</th>\n",
       "      <th>room_type</th>\n",
       "      <th>accommodates</th>\n",
       "      <th>bedrooms</th>\n",
       "      <th>amenities</th>\n",
       "      <th>price</th>\n",
       "      <th>minimum_nights</th>\n",
       "      <th>maximum_nights</th>\n",
       "      <th>review_scores_rating</th>\n",
       "      <th>review_scores_accuracy</th>\n",
       "      <th>review_scores_cleanliness</th>\n",
       "      <th>review_scores_checkin</th>\n",
       "      <th>review_scores_communication</th>\n",
       "      <th>review_scores_location</th>\n",
       "      <th>review_scores_value</th>\n",
       "      <th>instant_bookable</th>\n",
       "    </tr>\n",
       "  </thead>\n",
       "  <tbody>\n",
       "    <tr>\n",
       "      <th>0</th>\n",
       "      <td>281420</td>\n",
       "      <td>Beautiful Flat in le Village Montmartre, Paris</td>\n",
       "      <td>1466919</td>\n",
       "      <td>2011-12-03</td>\n",
       "      <td>Paris, Ile-de-France, France</td>\n",
       "      <td>NaN</td>\n",
       "      <td>NaN</td>\n",
       "      <td>NaN</td>\n",
       "      <td>f</td>\n",
       "      <td>1.0</td>\n",
       "      <td>t</td>\n",
       "      <td>f</td>\n",
       "      <td>Buttes-Montmartre</td>\n",
       "      <td>NaN</td>\n",
       "      <td>Paris</td>\n",
       "      <td>48.88668</td>\n",
       "      <td>2.33343</td>\n",
       "      <td>Entire apartment</td>\n",
       "      <td>Entire place</td>\n",
       "      <td>2</td>\n",
       "      <td>1.0</td>\n",
       "      <td>[\"Heating\", \"Kitchen\", \"Washer\", \"Wifi\", \"Long...</td>\n",
       "      <td>53</td>\n",
       "      <td>2</td>\n",
       "      <td>1125</td>\n",
       "      <td>100.0</td>\n",
       "      <td>10.0</td>\n",
       "      <td>10.0</td>\n",
       "      <td>10.0</td>\n",
       "      <td>10.0</td>\n",
       "      <td>10.0</td>\n",
       "      <td>10.0</td>\n",
       "      <td>f</td>\n",
       "    </tr>\n",
       "    <tr>\n",
       "      <th>1</th>\n",
       "      <td>3705183</td>\n",
       "      <td>39 mÃÂ² Paris (Sacre CÃ",
       "âur)</td>\n",
       "      <td>10328771</td>\n",
       "      <td>2013-11-29</td>\n",
       "      <td>Paris, Ile-de-France, France</td>\n",
       "      <td>NaN</td>\n",
       "      <td>NaN</td>\n",
       "      <td>NaN</td>\n",
       "      <td>f</td>\n",
       "      <td>1.0</td>\n",
       "      <td>t</td>\n",
       "      <td>t</td>\n",
       "      <td>Buttes-Montmartre</td>\n",
       "      <td>NaN</td>\n",
       "      <td>Paris</td>\n",
       "      <td>48.88617</td>\n",
       "      <td>2.34515</td>\n",
       "      <td>Entire apartment</td>\n",
       "      <td>Entire place</td>\n",
       "      <td>2</td>\n",
       "      <td>1.0</td>\n",
       "      <td>[\"Shampoo\", \"Heating\", \"Kitchen\", \"Essentials\"...</td>\n",
       "      <td>120</td>\n",
       "      <td>2</td>\n",
       "      <td>1125</td>\n",
       "      <td>100.0</td>\n",
       "      <td>10.0</td>\n",
       "      <td>10.0</td>\n",
       "      <td>10.0</td>\n",
       "      <td>10.0</td>\n",
       "      <td>10.0</td>\n",
       "      <td>10.0</td>\n",
       "      <td>f</td>\n",
       "    </tr>\n",
       "    <tr>\n",
       "      <th>2</th>\n",
       "      <td>4082273</td>\n",
       "      <td>Lovely apartment with Terrace, 60m2</td>\n",
       "      <td>19252768</td>\n",
       "      <td>2014-07-31</td>\n",
       "      <td>Paris, Ile-de-France, France</td>\n",
       "      <td>NaN</td>\n",
       "      <td>NaN</td>\n",
       "      <td>NaN</td>\n",
       "      <td>f</td>\n",
       "      <td>1.0</td>\n",
       "      <td>t</td>\n",
       "      <td>f</td>\n",
       "      <td>Elysee</td>\n",
       "      <td>NaN</td>\n",
       "      <td>Paris</td>\n",
       "      <td>48.88112</td>\n",
       "      <td>2.31712</td>\n",
       "      <td>Entire apartment</td>\n",
       "      <td>Entire place</td>\n",
       "      <td>2</td>\n",
       "      <td>1.0</td>\n",
       "      <td>[\"Heating\", \"TV\", \"Kitchen\", \"Washer\", \"Wifi\",...</td>\n",
       "      <td>89</td>\n",
       "      <td>2</td>\n",
       "      <td>1125</td>\n",
       "      <td>100.0</td>\n",
       "      <td>10.0</td>\n",
       "      <td>10.0</td>\n",
       "      <td>10.0</td>\n",
       "      <td>10.0</td>\n",
       "      <td>10.0</td>\n",
       "      <td>10.0</td>\n",
       "      <td>f</td>\n",
       "    </tr>\n",
       "    <tr>\n",
       "      <th>3</th>\n",
       "      <td>4797344</td>\n",
       "      <td>Cosy studio (close to Eiffel tower)</td>\n",
       "      <td>10668311</td>\n",
       "      <td>2013-12-17</td>\n",
       "      <td>Paris, Ile-de-France, France</td>\n",
       "      <td>NaN</td>\n",
       "      <td>NaN</td>\n",
       "      <td>NaN</td>\n",
       "      <td>f</td>\n",
       "      <td>1.0</td>\n",
       "      <td>t</td>\n",
       "      <td>t</td>\n",
       "      <td>Vaugirard</td>\n",
       "      <td>NaN</td>\n",
       "      <td>Paris</td>\n",
       "      <td>48.84571</td>\n",
       "      <td>2.30584</td>\n",
       "      <td>Entire apartment</td>\n",
       "      <td>Entire place</td>\n",
       "      <td>2</td>\n",
       "      <td>1.0</td>\n",
       "      <td>[\"Heating\", \"TV\", \"Kitchen\", \"Wifi\", \"Long ter...</td>\n",
       "      <td>58</td>\n",
       "      <td>2</td>\n",
       "      <td>1125</td>\n",
       "      <td>100.0</td>\n",
       "      <td>10.0</td>\n",
       "      <td>10.0</td>\n",
       "      <td>10.0</td>\n",
       "      <td>10.0</td>\n",
       "      <td>10.0</td>\n",
       "      <td>10.0</td>\n",
       "      <td>f</td>\n",
       "    </tr>\n",
       "    <tr>\n",
       "      <th>4</th>\n",
       "      <td>4823489</td>\n",
       "      <td>Close to Eiffel Tower - Beautiful flat : 2 rooms</td>\n",
       "      <td>24837558</td>\n",
       "      <td>2014-12-14</td>\n",
       "      <td>Paris, Ile-de-France, France</td>\n",
       "      <td>NaN</td>\n",
       "      <td>NaN</td>\n",
       "      <td>NaN</td>\n",
       "      <td>f</td>\n",
       "      <td>1.0</td>\n",
       "      <td>t</td>\n",
       "      <td>f</td>\n",
       "      <td>Passy</td>\n",
       "      <td>NaN</td>\n",
       "      <td>Paris</td>\n",
       "      <td>48.85500</td>\n",
       "      <td>2.26979</td>\n",
       "      <td>Entire apartment</td>\n",
       "      <td>Entire place</td>\n",
       "      <td>2</td>\n",
       "      <td>1.0</td>\n",
       "      <td>[\"Heating\", \"TV\", \"Kitchen\", \"Essentials\", \"Ha...</td>\n",
       "      <td>60</td>\n",
       "      <td>2</td>\n",
       "      <td>1125</td>\n",
       "      <td>100.0</td>\n",
       "      <td>10.0</td>\n",
       "      <td>10.0</td>\n",
       "      <td>10.0</td>\n",
       "      <td>10.0</td>\n",
       "      <td>10.0</td>\n",
       "      <td>10.0</td>\n",
       "      <td>f</td>\n",
       "    </tr>\n",
       "  </tbody>\n",
       "</table>\n",
       "</div>"
      ],
      "text/plain": [
       "   listing_id                                              name   host_id  \\\n",
       "0      281420    Beautiful Flat in le Village Montmartre, Paris   1466919   \n",
       "1     3705183                   39 mÃÂ² Paris (Sacre CÃ\n",
       "âur)  10328771   \n",
       "2     4082273               Lovely apartment with Terrace, 60m2  19252768   \n",
       "3     4797344               Cosy studio (close to Eiffel tower)  10668311   \n",
       "4     4823489  Close to Eiffel Tower - Beautiful flat : 2 rooms  24837558   \n",
       "\n",
       "   host_since                 host_location host_response_time  \\\n",
       "0  2011-12-03  Paris, Ile-de-France, France                NaN   \n",
       "1  2013-11-29  Paris, Ile-de-France, France                NaN   \n",
       "2  2014-07-31  Paris, Ile-de-France, France                NaN   \n",
       "3  2013-12-17  Paris, Ile-de-France, France                NaN   \n",
       "4  2014-12-14  Paris, Ile-de-France, France                NaN   \n",
       "\n",
       "   host_response_rate  host_acceptance_rate host_is_superhost  \\\n",
       "0                 NaN                   NaN                 f   \n",
       "1                 NaN                   NaN                 f   \n",
       "2                 NaN                   NaN                 f   \n",
       "3                 NaN                   NaN                 f   \n",
       "4                 NaN                   NaN                 f   \n",
       "\n",
       "   host_total_listings_count host_has_profile_pic host_identity_verified  \\\n",
       "0                        1.0                    t                      f   \n",
       "1                        1.0                    t                      t   \n",
       "2                        1.0                    t                      f   \n",
       "3                        1.0                    t                      t   \n",
       "4                        1.0                    t                      f   \n",
       "\n",
       "       neighbourhood district   city  latitude  longitude     property_type  \\\n",
       "0  Buttes-Montmartre      NaN  Paris  48.88668    2.33343  Entire apartment   \n",
       "1  Buttes-Montmartre      NaN  Paris  48.88617    2.34515  Entire apartment   \n",
       "2             Elysee      NaN  Paris  48.88112    2.31712  Entire apartment   \n",
       "3          Vaugirard      NaN  Paris  48.84571    2.30584  Entire apartment   \n",
       "4              Passy      NaN  Paris  48.85500    2.26979  Entire apartment   \n",
       "\n",
       "      room_type  accommodates  bedrooms  \\\n",
       "0  Entire place             2       1.0   \n",
       "1  Entire place             2       1.0   \n",
       "2  Entire place             2       1.0   \n",
       "3  Entire place             2       1.0   \n",
       "4  Entire place             2       1.0   \n",
       "\n",
       "                                           amenities  price  minimum_nights  \\\n",
       "0  [\"Heating\", \"Kitchen\", \"Washer\", \"Wifi\", \"Long...     53               2   \n",
       "1  [\"Shampoo\", \"Heating\", \"Kitchen\", \"Essentials\"...    120               2   \n",
       "2  [\"Heating\", \"TV\", \"Kitchen\", \"Washer\", \"Wifi\",...     89               2   \n",
       "3  [\"Heating\", \"TV\", \"Kitchen\", \"Wifi\", \"Long ter...     58               2   \n",
       "4  [\"Heating\", \"TV\", \"Kitchen\", \"Essentials\", \"Ha...     60               2   \n",
       "\n",
       "   maximum_nights  review_scores_rating  review_scores_accuracy  \\\n",
       "0            1125                 100.0                    10.0   \n",
       "1            1125                 100.0                    10.0   \n",
       "2            1125                 100.0                    10.0   \n",
       "3            1125                 100.0                    10.0   \n",
       "4            1125                 100.0                    10.0   \n",
       "\n",
       "   review_scores_cleanliness  review_scores_checkin  \\\n",
       "0                       10.0                   10.0   \n",
       "1                       10.0                   10.0   \n",
       "2                       10.0                   10.0   \n",
       "3                       10.0                   10.0   \n",
       "4                       10.0                   10.0   \n",
       "\n",
       "   review_scores_communication  review_scores_location  review_scores_value  \\\n",
       "0                         10.0                    10.0                 10.0   \n",
       "1                         10.0                    10.0                 10.0   \n",
       "2                         10.0                    10.0                 10.0   \n",
       "3                         10.0                    10.0                 10.0   \n",
       "4                         10.0                    10.0                 10.0   \n",
       "\n",
       "  instant_bookable  \n",
       "0                f  \n",
       "1                f  \n",
       "2                f  \n",
       "3                f  \n",
       "4                f  "
      ]
     },
     "execution_count": 228,
     "metadata": {},
     "output_type": "execute_result"
    }
   ],
   "source": [
    "listings_og.head()"
   ]
  },
  {
   "cell_type": "markdown",
   "id": "0b75564d",
   "metadata": {},
   "source": [
    "## Cleanings - Listings"
   ]
  },
  {
   "cell_type": "code",
   "execution_count": 229,
   "id": "b817ba3a",
   "metadata": {},
   "outputs": [],
   "source": [
    "price_usd = []\n",
    "\n",
    "for i in range(len(listings['price'])):\n",
    "    if listings['city'][i] == 'Paris':\n",
    "        price_usd.append(listings['price'][i] * 1.2566)\n",
    "    elif listings['city'][i] == 'Sydney':\n",
    "        price_usd.append(listings['price'][i] * .6672)\n",
    "    elif listings['city'][i] == 'Rome':\n",
    "        price_usd.append(listings['price'][i] * 1.106)\n",
    "    elif listings['city'][i] == 'Rio De Janeiro':\n",
    "        price_usd.append(listings['price'][i] * .2004)\n",
    "    elif listings['city'][i] == 'Istanbul':\n",
    "        price_usd.append(listings['price'][i] * .0513)\n",
    "    elif listings['city'][i] == 'Mexico City':\n",
    "        price_usd.append(listings['price'][i] * .0558)\n",
    "    elif listings['city'][i] == 'Bangkok':\n",
    "        price_usd.append(listings['price'][i] * .0295)\n",
    "    elif listings['city'][i] == 'Cape Town':\n",
    "        price_usd.append(listings['price'][i] * .0547)\n",
    "    elif listings['city'][i] == 'Hong Kong':\n",
    "        price_usd.append(listings['price'][i] * .1274)\n",
    "    else:\n",
    "        price_usd.append(listings['price'][i])\n"
   ]
  },
  {
   "cell_type": "code",
   "execution_count": 230,
   "id": "83700696",
   "metadata": {},
   "outputs": [],
   "source": [
    "listings['price_usd'] = price_usd"
   ]
  },
  {
   "cell_type": "code",
   "execution_count": 231,
   "id": "7e3b29f3",
   "metadata": {},
   "outputs": [],
   "source": [
    "listings.drop(columns = ['name','host_location'],inplace=True) # not important identifiers"
   ]
  },
  {
   "cell_type": "code",
   "execution_count": 232,
   "id": "fc129df0",
   "metadata": {},
   "outputs": [],
   "source": [
    "listings['host_total_listings_count'].fillna(1,inplace = True) #majority\n",
    "listings['host_has_profile_pic'].fillna('t',inplace = True) # majority\n",
    "listings['host_identity_verified'].fillna('t',inplace = True) # majority\n",
    "listings['host_is_superhost'].fillna('f',inplace = True) # majority\n",
    "listings['bedrooms'].fillna(listings['bedrooms'].median,inplace = True) # majority"
   ]
  },
  {
   "cell_type": "code",
   "execution_count": 233,
   "id": "4606eda9",
   "metadata": {},
   "outputs": [],
   "source": [
    "listings= listings[listings['price_usd'] < 501] # alot of outliers that are throwing the data out of wack, a majority of listings\n",
    "## are below $500 a night"
   ]
  },
  {
   "cell_type": "code",
   "execution_count": 234,
   "id": "ab4103f3",
   "metadata": {},
   "outputs": [],
   "source": [
    "from statsmodels.formula.api import ols\n",
    "model_rating = ols(formula = 'review_scores_rating~review_scores_accuracy', data = listings).fit()\n",
    "pred_rating = listings['review_scores_accuracy']*model_rating.params[1] + model_rating.params[0]\n",
    "\n",
    "model_accuracy = ols(formula = 'review_scores_accuracy~review_scores_rating', data = listings).fit()\n",
    "pred_accuracy = listings['review_scores_rating']*model_accuracy.params[1] + model_accuracy.params[0]\n",
    "\n",
    "model_clean = ols(formula = 'review_scores_cleanliness~review_scores_rating', data = listings).fit()\n",
    "pred_clean = listings['review_scores_rating']*model_clean.params[1] + model_clean.params[0]\n",
    "\n",
    "model_checkin = ols(formula = 'review_scores_checkin~review_scores_communication', data = listings).fit()\n",
    "pred_checkin = listings['review_scores_communication']*model_checkin.params[1] + model_checkin.params[0]\n",
    "\n",
    "model_com = ols(formula = 'review_scores_communication~review_scores_checkin', data = listings).fit()\n",
    "pred_com = listings['review_scores_checkin']*model_com.params[1] + model_com.params[0]\n",
    "\n",
    "model_val = ols(formula = 'review_scores_value~review_scores_rating', data = listings).fit()\n",
    "pred_val = listings['review_scores_rating']*model_val.params[1] + model_val.params[0]\n",
    "\n",
    "# filling in reviews stats where we can with most correlated variables and regression"
   ]
  },
  {
   "cell_type": "code",
   "execution_count": 235,
   "id": "ef3a2b4e",
   "metadata": {},
   "outputs": [],
   "source": [
    "listings['review_scores_rating'] = listings['review_scores_rating'].fillna(pred_rating)\n",
    "listings['review_scores_accuracy'] = listings['review_scores_accuracy'].fillna(pred_accuracy)\n",
    "listings['review_scores_cleanliness'] = listings['review_scores_cleanliness'].fillna(pred_clean)\n",
    "listings['review_scores_communication'] = listings['review_scores_communication'].fillna(pred_com)\n",
    "listings['review_scores_value'] = listings['review_scores_value'].fillna(pred_val)"
   ]
  },
  {
   "cell_type": "code",
   "execution_count": 236,
   "id": "aca3b70a",
   "metadata": {},
   "outputs": [
    {
     "data": {
      "text/plain": [
       "listing_id                          0\n",
       "host_id                             0\n",
       "host_since                        156\n",
       "host_response_time             123583\n",
       "host_response_rate             123583\n",
       "host_acceptance_rate           107189\n",
       "host_is_superhost                   0\n",
       "host_total_listings_count           0\n",
       "host_has_profile_pic                0\n",
       "host_identity_verified              0\n",
       "neighbourhood                       0\n",
       "district                       230803\n",
       "city                                0\n",
       "latitude                            0\n",
       "longitude                           0\n",
       "property_type                       0\n",
       "room_type                           0\n",
       "accommodates                        0\n",
       "bedrooms                            0\n",
       "amenities                           0\n",
       "price                               0\n",
       "minimum_nights                      0\n",
       "maximum_nights                      0\n",
       "review_scores_rating            84109\n",
       "review_scores_accuracy          84109\n",
       "review_scores_cleanliness       84109\n",
       "review_scores_checkin           84487\n",
       "review_scores_communication     84394\n",
       "review_scores_location          84489\n",
       "review_scores_value             84109\n",
       "instant_bookable                    0\n",
       "price_usd                           0\n",
       "dtype: int64"
      ]
     },
     "execution_count": 236,
     "metadata": {},
     "output_type": "execute_result"
    }
   ],
   "source": [
    "listings.isna().sum()"
   ]
  },
  {
   "cell_type": "code",
   "execution_count": 237,
   "id": "6314d5b0",
   "metadata": {},
   "outputs": [],
   "source": [
    "listings = listings[listings['listing_id'].isin(reviews['listing_id'])].copy() # grabbing listing id's that are only\n",
    "##in reviews table\n",
    "## this drops quite a bit"
   ]
  },
  {
   "cell_type": "code",
   "execution_count": 238,
   "id": "3688e111",
   "metadata": {},
   "outputs": [],
   "source": [
    "listings.dropna(subset = ['review_scores_rating'], inplace=True)\n",
    "listings.dropna(subset = ['review_scores_checkin'], inplace=True)\n",
    "listings.dropna(subset = ['review_scores_communication'], inplace=True)\n",
    "listings.dropna(subset = ['review_scores_location'], inplace=True)\n"
   ]
  },
  {
   "cell_type": "code",
   "execution_count": 239,
   "id": "06806ff7",
   "metadata": {},
   "outputs": [],
   "source": [
    "listings['host_is_superhost'] = listings['host_is_superhost'].replace({'t': 1, 'f': 0}) \n",
    "listings['instant_bookable'] = listings['instant_bookable'].replace({'t': 1, 'f': 0}) \n",
    "listings['host_identity_verified'] = listings['host_identity_verified'].replace({'t': 1, 'f': 0}) \n",
    "listings['host_has_profile_pic'] = listings['host_has_profile_pic'].replace({'t': 1, 'f': 0}) \n",
    "\n",
    "# change t's and f's to 0's and 1's"
   ]
  },
  {
   "cell_type": "code",
   "execution_count": 240,
   "id": "f39e8592",
   "metadata": {},
   "outputs": [],
   "source": [
    "weird_bed_cases = listings[~listings['bedrooms'].isin([1.0,2.0,3.0,4.0,5.0,6.0,10.0,7.0,9.0,8.0,12.0,50.0,11.0,20.0,14.0,16.0,15.0,23.0,19.0,\n",
    "                                    21.0,46.0,22.0,17.0,13.0,18.0,25.0,26.0,30.0])].copy()\n",
    "\n",
    "# very strange value for bedroom column couldnt filter it directly"
   ]
  },
  {
   "cell_type": "code",
   "execution_count": 241,
   "id": "0ce79023",
   "metadata": {},
   "outputs": [],
   "source": [
    "listings = listings[listings['bedrooms'].isin([1.0,2.0,3.0,4.0,5.0,6.0,10.0,7.0,9.0,8.0,12.0,50.0,11.0,20.0,14.0,16.0,15.0,23.0,19.0,\n",
    "                                    21.0,46.0,22.0,17.0,13.0,18.0,25.0,26.0,30.0])]"
   ]
  },
  {
   "cell_type": "code",
   "execution_count": 242,
   "id": "2beb1c85",
   "metadata": {},
   "outputs": [],
   "source": [
    "weird_bed_cases.bedrooms = 1.0 # filling weird cases with 1 (the median)"
   ]
  },
  {
   "cell_type": "code",
   "execution_count": 243,
   "id": "3930fd56",
   "metadata": {},
   "outputs": [],
   "source": [
    "listings = pd.concat([listings,weird_bed_cases]) # adding back these cases with new value "
   ]
  },
  {
   "cell_type": "code",
   "execution_count": 244,
   "id": "deb44458",
   "metadata": {},
   "outputs": [
    {
     "data": {
      "text/plain": [
       "(182472, 32)"
      ]
     },
     "execution_count": 244,
     "metadata": {},
     "output_type": "execute_result"
    }
   ],
   "source": [
    "listings.shape"
   ]
  },
  {
   "cell_type": "markdown",
   "id": "4cde1a3f",
   "metadata": {},
   "source": [
    "## Cleaning - Review"
   ]
  },
  {
   "cell_type": "code",
   "execution_count": 245,
   "id": "507b8ead",
   "metadata": {},
   "outputs": [],
   "source": [
    "reviews = reviews[reviews['listing_id'].isin(listings['listing_id'])].copy() ## make sure that all the listing id's \n",
    "## match between both datasets after removing some rows"
   ]
  },
  {
   "cell_type": "code",
   "execution_count": 246,
   "id": "bfb109ee",
   "metadata": {},
   "outputs": [
    {
     "data": {
      "text/plain": [
       "listing_id     0\n",
       "review_id      0\n",
       "date           0\n",
       "reviewer_id    0\n",
       "dtype: int64"
      ]
     },
     "execution_count": 246,
     "metadata": {},
     "output_type": "execute_result"
    }
   ],
   "source": [
    "reviews.isna().sum()"
   ]
  },
  {
   "cell_type": "code",
   "execution_count": 247,
   "id": "45438eb0",
   "metadata": {},
   "outputs": [],
   "source": [
    "reviews['review_id'] = range(len(reviews))"
   ]
  },
  {
   "cell_type": "code",
   "execution_count": 248,
   "id": "24aeaf49",
   "metadata": {},
   "outputs": [],
   "source": [
    "count_of_reviews = reviews.groupby('listing_id')['reviewer_id'].count()"
   ]
  },
  {
   "cell_type": "code",
   "execution_count": 249,
   "id": "65a02097",
   "metadata": {},
   "outputs": [],
   "source": [
    "listings = pd.merge(listings,count_of_reviews, on = 'listing_id',how = 'inner') # give a review count columnn to each listing"
   ]
  },
  {
   "cell_type": "code",
   "execution_count": 250,
   "id": "b9b1c393",
   "metadata": {},
   "outputs": [],
   "source": [
    "listings.rename(columns = {'reviewer_id':'count_of_reviews'},inplace = True)"
   ]
  },
  {
   "cell_type": "markdown",
   "id": "9c0eddb1",
   "metadata": {},
   "source": [
    "### SQL DataBase"
   ]
  },
  {
   "cell_type": "code",
   "execution_count": 251,
   "id": "9bcaa95f",
   "metadata": {},
   "outputs": [],
   "source": [
    "### Host Table\n",
    "host = listings[['host_id','host_since','host_response_time','host_response_rate','host_acceptance_rate','host_is_superhost',\n",
    "         'host_total_listings_count','host_has_profile_pic','host_identity_verified']]\n",
    "\n",
    "host = host.drop_duplicates(subset='host_id', keep=\"first\")"
   ]
  },
  {
   "cell_type": "code",
   "execution_count": 252,
   "id": "e32682a7",
   "metadata": {},
   "outputs": [],
   "source": [
    "# Reviwers Table\n",
    "reviewers = pd.DataFrame(reviews.groupby('reviewer_id')['listing_id'].count()).reset_index()\n",
    "reviewers.rename(columns = {'listing_id':'count'},inplace = True)"
   ]
  },
  {
   "cell_type": "code",
   "execution_count": 253,
   "id": "59dba976",
   "metadata": {},
   "outputs": [],
   "source": [
    "## Listing Table\n",
    "listings_tbl = listings.drop(columns = ['host_id','host_since','host_response_time','host_response_rate','host_acceptance_rate','host_is_superhost',\n",
    "         'host_total_listings_count','host_has_profile_pic','host_identity_verified','amenities','count_of_reviews'])\n"
   ]
  },
  {
   "cell_type": "code",
   "execution_count": 254,
   "id": "7c783a92",
   "metadata": {},
   "outputs": [],
   "source": [
    "## Neighborhood Table\n",
    "nhd = pd.DataFrame(listings_tbl.groupby(['neighbourhood','city'])['listing_id'].count()).reset_index().reset_index()\n",
    "nhd.rename(columns = {'index':'neighbourhood_id'},inplace = True)\n",
    "nhd.drop(columns = ['listing_id'],inplace = True)"
   ]
  },
  {
   "cell_type": "code",
   "execution_count": 255,
   "id": "96585e97",
   "metadata": {},
   "outputs": [],
   "source": [
    "## City Table\n",
    "city = pd.DataFrame(listings_tbl.groupby('city')['listing_id'].count()).reset_index().reset_index()\n",
    "city.rename(columns = {'index':'city_id'},inplace = True)\n",
    "city.drop(columns = ['listing_id'],inplace = True)"
   ]
  },
  {
   "cell_type": "code",
   "execution_count": 256,
   "id": "3e173ab2",
   "metadata": {},
   "outputs": [],
   "source": [
    "# ID fix\n",
    "nhd = pd.merge(nhd,city, on = 'city', how = 'left').drop(columns = ['city'])"
   ]
  },
  {
   "cell_type": "code",
   "execution_count": 257,
   "id": "26c28a88",
   "metadata": {},
   "outputs": [],
   "source": [
    "# ID Fix\n",
    "listings_tbl = pd.merge(listings_tbl,nhd, on = 'neighbourhood',how = 'left').drop(columns = ['city','neighbourhood','city_id'])"
   ]
  },
  {
   "cell_type": "markdown",
   "id": "0e87f8c6",
   "metadata": {},
   "source": [
    "## Amenities"
   ]
  },
  {
   "cell_type": "code",
   "execution_count": 258,
   "id": "3983900d",
   "metadata": {},
   "outputs": [],
   "source": [
    "## Amenities was a unqiue list for each listing, this would be too much to try to manually put into a SQL database\n",
    "## so i just left it out and cleaned it separately"
   ]
  },
  {
   "cell_type": "code",
   "execution_count": 259,
   "id": "773c447c",
   "metadata": {},
   "outputs": [],
   "source": [
    "amenities = listings[['listing_id','amenities']]"
   ]
  },
  {
   "cell_type": "code",
   "execution_count": 260,
   "id": "14645fde",
   "metadata": {},
   "outputs": [
    {
     "data": {
      "text/html": [
       "<div>\n",
       "<style scoped>\n",
       "    .dataframe tbody tr th:only-of-type {\n",
       "        vertical-align: middle;\n",
       "    }\n",
       "\n",
       "    .dataframe tbody tr th {\n",
       "        vertical-align: top;\n",
       "    }\n",
       "\n",
       "    .dataframe thead th {\n",
       "        text-align: right;\n",
       "    }\n",
       "</style>\n",
       "<table border=\"1\" class=\"dataframe\">\n",
       "  <thead>\n",
       "    <tr style=\"text-align: right;\">\n",
       "      <th></th>\n",
       "      <th>listing_id</th>\n",
       "      <th>amenities</th>\n",
       "    </tr>\n",
       "  </thead>\n",
       "  <tbody>\n",
       "    <tr>\n",
       "      <th>0</th>\n",
       "      <td>281420</td>\n",
       "      <td>[\"Heating\", \"Kitchen\", \"Washer\", \"Wifi\", \"Long...</td>\n",
       "    </tr>\n",
       "    <tr>\n",
       "      <th>1</th>\n",
       "      <td>3705183</td>\n",
       "      <td>[\"Shampoo\", \"Heating\", \"Kitchen\", \"Essentials\"...</td>\n",
       "    </tr>\n",
       "    <tr>\n",
       "      <th>2</th>\n",
       "      <td>4082273</td>\n",
       "      <td>[\"Heating\", \"TV\", \"Kitchen\", \"Washer\", \"Wifi\",...</td>\n",
       "    </tr>\n",
       "    <tr>\n",
       "      <th>3</th>\n",
       "      <td>4797344</td>\n",
       "      <td>[\"Heating\", \"TV\", \"Kitchen\", \"Wifi\", \"Long ter...</td>\n",
       "    </tr>\n",
       "    <tr>\n",
       "      <th>4</th>\n",
       "      <td>4823489</td>\n",
       "      <td>[\"Heating\", \"TV\", \"Kitchen\", \"Essentials\", \"Ha...</td>\n",
       "    </tr>\n",
       "    <tr>\n",
       "      <th>...</th>\n",
       "      <td>...</td>\n",
       "      <td>...</td>\n",
       "    </tr>\n",
       "    <tr>\n",
       "      <th>182467</th>\n",
       "      <td>34099265</td>\n",
       "      <td>[\"Heating\", \"Hair dryer\", \"Dedicated workspace...</td>\n",
       "    </tr>\n",
       "    <tr>\n",
       "      <th>182468</th>\n",
       "      <td>34635300</td>\n",
       "      <td>[\"Shampoo\", \"Dishes and silverware\", \"Heating\"...</td>\n",
       "    </tr>\n",
       "    <tr>\n",
       "      <th>182469</th>\n",
       "      <td>35343787</td>\n",
       "      <td>[\"Ethernet connection\", \"Patio or balcony\", \"D...</td>\n",
       "    </tr>\n",
       "    <tr>\n",
       "      <th>182470</th>\n",
       "      <td>35902474</td>\n",
       "      <td>[\"Heating\", \"Washer\", \"Hair dryer\", \"Smoke ala...</td>\n",
       "    </tr>\n",
       "    <tr>\n",
       "      <th>182471</th>\n",
       "      <td>38548912</td>\n",
       "      <td>[\"Garden or backyard\", \"Single level home\", \"S...</td>\n",
       "    </tr>\n",
       "  </tbody>\n",
       "</table>\n",
       "<p>182472 rows × 2 columns</p>\n",
       "</div>"
      ],
      "text/plain": [
       "        listing_id                                          amenities\n",
       "0           281420  [\"Heating\", \"Kitchen\", \"Washer\", \"Wifi\", \"Long...\n",
       "1          3705183  [\"Shampoo\", \"Heating\", \"Kitchen\", \"Essentials\"...\n",
       "2          4082273  [\"Heating\", \"TV\", \"Kitchen\", \"Washer\", \"Wifi\",...\n",
       "3          4797344  [\"Heating\", \"TV\", \"Kitchen\", \"Wifi\", \"Long ter...\n",
       "4          4823489  [\"Heating\", \"TV\", \"Kitchen\", \"Essentials\", \"Ha...\n",
       "...            ...                                                ...\n",
       "182467    34099265  [\"Heating\", \"Hair dryer\", \"Dedicated workspace...\n",
       "182468    34635300  [\"Shampoo\", \"Dishes and silverware\", \"Heating\"...\n",
       "182469    35343787  [\"Ethernet connection\", \"Patio or balcony\", \"D...\n",
       "182470    35902474  [\"Heating\", \"Washer\", \"Hair dryer\", \"Smoke ala...\n",
       "182471    38548912  [\"Garden or backyard\", \"Single level home\", \"S...\n",
       "\n",
       "[182472 rows x 2 columns]"
      ]
     },
     "execution_count": 260,
     "metadata": {},
     "output_type": "execute_result"
    }
   ],
   "source": [
    "amenities"
   ]
  },
  {
   "cell_type": "code",
   "execution_count": 261,
   "id": "294e1cd0",
   "metadata": {},
   "outputs": [
    {
     "name": "stderr",
     "output_type": "stream",
     "text": [
      "<ipython-input-261-a9dea3b8842f>:4: SettingWithCopyWarning: \n",
      "A value is trying to be set on a copy of a slice from a DataFrame.\n",
      "Try using .loc[row_indexer,col_indexer] = value instead\n",
      "\n",
      "See the caveats in the documentation: https://pandas.pydata.org/pandas-docs/stable/user_guide/indexing.html#returning-a-view-versus-a-copy\n",
      "  amenities['amenities'] = amenities['amenities'].apply(str_to_list)\n"
     ]
    }
   ],
   "source": [
    "def str_to_list(s):\n",
    "    return eval(s)\n",
    "\n",
    "amenities['amenities'] = amenities['amenities'].apply(str_to_list)"
   ]
  },
  {
   "cell_type": "code",
   "execution_count": 262,
   "id": "76bfa946",
   "metadata": {},
   "outputs": [
    {
     "name": "stderr",
     "output_type": "stream",
     "text": [
      "<ipython-input-262-0d5493b1c2e1>:2: FutureWarning: In a future version of pandas all arguments of DataFrame.drop except for the argument 'labels' will be keyword-only.\n",
      "  new_amenities = amenities.drop('amenities', 1).join(amenities.amenities.str.join('|').str.get_dummies())\n"
     ]
    }
   ],
   "source": [
    "# this breaks the list and separates each item in the list as it's own column\n",
    "new_amenities = amenities.drop('amenities', 1).join(amenities.amenities.str.join('|').str.get_dummies())"
   ]
  },
  {
   "cell_type": "code",
   "execution_count": 263,
   "id": "0ea9aced",
   "metadata": {},
   "outputs": [],
   "source": [
    "new_amenities.columns = new_amenities.columns.str.lower()"
   ]
  },
  {
   "cell_type": "code",
   "execution_count": 264,
   "id": "30f623c9",
   "metadata": {},
   "outputs": [],
   "source": [
    "def drop_amenities(obj,df):\n",
    "    A_cols = df.filter(regex=obj)\n",
    "    B_cols = df.filter(regex=obj)\n",
    "\n",
    "    # create the new columns\n",
    "    D_1 = A_cols + B_cols\n",
    "\n",
    "    item= D_1.sum(axis=1)\n",
    "    item = pd.DataFrame(item).applymap(lambda x: 1 if x > 0 else x)\n",
    "\n",
    "    test = df.drop(columns = D_1.columns)\n",
    "    test[obj] = item\n",
    "    \n",
    "    return(test)"
   ]
  },
  {
   "cell_type": "code",
   "execution_count": 265,
   "id": "e6882b7c",
   "metadata": {},
   "outputs": [],
   "source": [
    "new_amenities = drop_amenities('tv',new_amenities)\n",
    "new_amenities = drop_amenities('wifi',new_amenities)\n",
    "new_amenities = drop_amenities('kitchen',new_amenities)\n",
    "new_amenities = drop_amenities('hangers',new_amenities)\n",
    "new_amenities = drop_amenities('heating',new_amenities)\n",
    "new_amenities = drop_amenities('hair dryer',new_amenities)\n",
    "new_amenities = drop_amenities('iron',new_amenities)\n",
    "new_amenities = drop_amenities('iron',new_amenities)\n",
    "new_amenities = drop_amenities('hot water',new_amenities)\n",
    "new_amenities = drop_amenities('dedicated workspace',new_amenities)\n",
    "new_amenities = drop_amenities('shampoo',new_amenities)\n",
    "new_amenities = drop_amenities('washer',new_amenities)\n",
    "new_amenities = drop_amenities('air conditioning',new_amenities)\n",
    "new_amenities = drop_amenities('smoke alarm',new_amenities)\n",
    "new_amenities = drop_amenities('dishes and silverware',new_amenities)\n",
    "new_amenities = drop_amenities('refrigerator',new_amenities)\n",
    "new_amenities = drop_amenities('fridge',new_amenities)\n",
    "new_amenities = drop_amenities('cooking basics',new_amenities)\n",
    "new_amenities = drop_amenities('microwave',new_amenities)\n",
    "new_amenities = drop_amenities('stove',new_amenities)\n",
    "new_amenities = drop_amenities('coffee',new_amenities)\n",
    "new_amenities = drop_amenities('oven',new_amenities)\n",
    "new_amenities = drop_amenities('fire extinguisher',new_amenities)\n",
    "new_amenities = drop_amenities('body soap',new_amenities)\n",
    "new_amenities = drop_amenities('body soap',new_amenities)\n",
    "new_amenities = drop_amenities('dryer',new_amenities)\n",
    "new_amenities = drop_amenities('carbon monoxide alarm',new_amenities)\n",
    "new_amenities = drop_amenities('free street parking',new_amenities)\n",
    "new_amenities = drop_amenities('free parking on premises',new_amenities)\n",
    "new_amenities = drop_amenities('host greets you',new_amenities)\n",
    "new_amenities = drop_amenities('patio or balcony',new_amenities)\n",
    "new_amenities = drop_amenities('paid parking off premises',new_amenities)\n",
    "new_amenities = drop_amenities('paid parking off premises',new_amenities)\n",
    "new_amenities = drop_amenities('pool',new_amenities)\n",
    "new_amenities = drop_amenities('breakfast',new_amenities)\n",
    "new_amenities = drop_amenities('gym',new_amenities)\n",
    "new_amenities = drop_amenities('lockbox',new_amenities)\n",
    "new_amenities = drop_amenities('bathtub',new_amenities)\n",
    "new_amenities = drop_amenities('console',new_amenities)\n",
    "new_amenities = drop_amenities('grill',new_amenities)\n",
    "new_amenities = drop_amenities('hot tub',new_amenities)"
   ]
  },
  {
   "cell_type": "code",
   "execution_count": 266,
   "id": "5563f3f2",
   "metadata": {},
   "outputs": [],
   "source": [
    "### The function above writes a code that will grab all columns with a phrase in the name and select, sum, and delete them\n",
    "## I did this because, tv, for instance was labeled a bunch of different ways.\n",
    "## I repeated this process for some of the most popular amenities"
   ]
  },
  {
   "cell_type": "code",
   "execution_count": 267,
   "id": "f11c22da",
   "metadata": {},
   "outputs": [],
   "source": [
    "new_amenities = new_amenities.loc[:, new_amenities.sum() > 101] # delete amenities that appear less than 100 times\n"
   ]
  },
  {
   "cell_type": "code",
   "execution_count": 268,
   "id": "3d8aec79",
   "metadata": {},
   "outputs": [],
   "source": [
    "amenities = new_amenities.copy()"
   ]
  },
  {
   "cell_type": "code",
   "execution_count": 269,
   "id": "1ab7d847",
   "metadata": {},
   "outputs": [
    {
     "data": {
      "text/plain": [
       "(182472, 122)"
      ]
     },
     "execution_count": 269,
     "metadata": {},
     "output_type": "execute_result"
    }
   ],
   "source": [
    "amenities.shape ## only 117 amenities remaining, no duplicates"
   ]
  },
  {
   "cell_type": "markdown",
   "id": "ab0943a9",
   "metadata": {},
   "source": [
    "## SQL "
   ]
  },
  {
   "cell_type": "code",
   "execution_count": 270,
   "id": "952b3a7c",
   "metadata": {},
   "outputs": [],
   "source": [
    "## Making Database with 6 tables"
   ]
  },
  {
   "cell_type": "code",
   "execution_count": 271,
   "id": "0d9551a4",
   "metadata": {},
   "outputs": [],
   "source": [
    "import sqlite3\n",
    "\n",
    "con = sqlite3.connect('Airbnb_db7.sqlite')\n",
    "cur = con.cursor()"
   ]
  },
  {
   "cell_type": "code",
   "execution_count": 272,
   "id": "27f6984a",
   "metadata": {},
   "outputs": [
    {
     "ename": "OperationalError",
     "evalue": "table HOSTS already exists",
     "output_type": "error",
     "traceback": [
      "\u001b[1;31m---------------------------------------------------------------------------\u001b[0m",
      "\u001b[1;31mOperationalError\u001b[0m                          Traceback (most recent call last)",
      "\u001b[1;32m<ipython-input-272-faec612ff0c3>\u001b[0m in \u001b[0;36m<module>\u001b[1;34m\u001b[0m\n\u001b[1;32m----> 1\u001b[1;33m cur.execute('''CREATE TABLE HOSTS ([host_id] INTEGER PRIMARY KEY,[host_since] text,[host_response_time] integer,\n\u001b[0m\u001b[0;32m      2\u001b[0m \u001b[1;33m[\u001b[0m\u001b[0mhost_response_rate\u001b[0m\u001b[1;33m]\u001b[0m \u001b[0minteger\u001b[0m\u001b[1;33m,\u001b[0m\u001b[1;33m[\u001b[0m\u001b[0mhost_acceptance_rate\u001b[0m\u001b[1;33m]\u001b[0m \u001b[0minteger\u001b[0m\u001b[1;33m,\u001b[0m\u001b[1;33m[\u001b[0m\u001b[0mhost_is_superhost\u001b[0m\u001b[1;33m]\u001b[0m \u001b[0minteger\u001b[0m\u001b[1;33m,\u001b[0m\u001b[1;33m[\u001b[0m\u001b[0mproperty_type\u001b[0m\u001b[1;33m]\u001b[0m \u001b[0mtext\u001b[0m\u001b[1;33m,\u001b[0m\u001b[1;33m[\u001b[0m\u001b[0mhost_total_listings_count\u001b[0m\u001b[1;33m]\u001b[0m \u001b[0minteger\u001b[0m\u001b[1;33m,\u001b[0m\u001b[1;33m[\u001b[0m\u001b[0mhost_has_profile_pic\u001b[0m\u001b[1;33m]\u001b[0m \u001b[0minteger\u001b[0m\u001b[1;33m,\u001b[0m\u001b[1;33m\u001b[0m\u001b[1;33m\u001b[0m\u001b[0m\n\u001b[0;32m      3\u001b[0m [host_identity_verified] integer)''')\n\u001b[0;32m      4\u001b[0m \u001b[1;33m\u001b[0m\u001b[0m\n\u001b[0;32m      5\u001b[0m cur.execute('''CREATE TABLE LISTINGS ([listing_id] INTEGER PRIMARY KEY,[district] text,[latitude] integer,[longitude] integer,[property_type] text,[room_type] text,[accommodates] integer,\n",
      "\u001b[1;31mOperationalError\u001b[0m: table HOSTS already exists"
     ]
    }
   ],
   "source": [
    "cur.execute('''CREATE TABLE HOSTS ([host_id] INTEGER PRIMARY KEY,[host_since] text,[host_response_time] integer,\n",
    "[host_response_rate] integer,[host_acceptance_rate] integer,[host_is_superhost] integer,[property_type] text,[host_total_listings_count] integer,[host_has_profile_pic] integer,\n",
    "[host_identity_verified] integer)''')\n",
    "\n",
    "cur.execute('''CREATE TABLE LISTINGS ([listing_id] INTEGER PRIMARY KEY,[district] text,[latitude] integer,[longitude] integer,[property_type] text,[room_type] text,[accommodates] integer,\n",
    "[bedrooms] integer,[price] integer,[minimum_nights] integer,[maximum_nights] integer,[review_scores_rating] integer,\n",
    "[review_scores_accuracy] integer,[review_scores_cleanliness] integer,[review_scores_checkin] integer,\n",
    "[review_scores_communication] integer,[review_scores_location] integer,[review_scores_value] integer,\n",
    "[instant_bookable] integer,[neighbourhood_id] integer,[price_usd]interger)''')\n",
    "\n",
    "cur.execute('''CREATE TABLE REVIEWS ([review_id] INTEGER PRIMARY KEY,[listing_id] integer,[date] text, [reviewer_id] text)''')\n",
    "\n",
    "cur.execute('''CREATE TABLE REVIEWERS ([reviewer_id] INTEGER PRIMARY KEY,[count] integer)''')\n",
    "\n",
    "cur.execute('''CREATE TABLE NEIGHBOURHOODS ([neighbourhood_id] INTEGER PRIMARY KEY,[neighbourhood] text,[city_id] integer)''')\n",
    "\n",
    "cur.execute('''CREATE TABLE CITIES ([city_id] INTEGER PRIMARY KEY,[city] text)''')\n",
    "\n",
    "con.commit()"
   ]
  },
  {
   "cell_type": "code",
   "execution_count": 273,
   "id": "35230e7a",
   "metadata": {},
   "outputs": [
    {
     "ename": "IntegrityError",
     "evalue": "UNIQUE constraint failed: LISTINGS.listing_id",
     "output_type": "error",
     "traceback": [
      "\u001b[1;31m---------------------------------------------------------------------------\u001b[0m",
      "\u001b[1;31mIntegrityError\u001b[0m                            Traceback (most recent call last)",
      "\u001b[1;32m<ipython-input-273-27887570d51a>\u001b[0m in \u001b[0;36m<module>\u001b[1;34m\u001b[0m\n\u001b[0;32m      1\u001b[0m \u001b[1;31m#host.to_sql('HOSTS',con, if_exists = 'append',index = False)\u001b[0m\u001b[1;33m\u001b[0m\u001b[1;33m\u001b[0m\u001b[1;33m\u001b[0m\u001b[0m\n\u001b[1;32m----> 2\u001b[1;33m \u001b[0mlistings_tbl\u001b[0m\u001b[1;33m.\u001b[0m\u001b[0mto_sql\u001b[0m\u001b[1;33m(\u001b[0m\u001b[1;34m'LISTINGS'\u001b[0m\u001b[1;33m,\u001b[0m\u001b[0mcon\u001b[0m\u001b[1;33m,\u001b[0m \u001b[0mif_exists\u001b[0m \u001b[1;33m=\u001b[0m \u001b[1;34m'append'\u001b[0m\u001b[1;33m,\u001b[0m\u001b[0mindex\u001b[0m \u001b[1;33m=\u001b[0m \u001b[1;32mFalse\u001b[0m\u001b[1;33m)\u001b[0m\u001b[1;33m\u001b[0m\u001b[1;33m\u001b[0m\u001b[0m\n\u001b[0m\u001b[0;32m      3\u001b[0m \u001b[0mhost\u001b[0m\u001b[1;33m.\u001b[0m\u001b[0mto_sql\u001b[0m\u001b[1;33m(\u001b[0m\u001b[1;34m'HOSTS'\u001b[0m\u001b[1;33m,\u001b[0m\u001b[0mcon\u001b[0m\u001b[1;33m,\u001b[0m \u001b[0mif_exists\u001b[0m \u001b[1;33m=\u001b[0m \u001b[1;34m'append'\u001b[0m\u001b[1;33m,\u001b[0m\u001b[0mindex\u001b[0m \u001b[1;33m=\u001b[0m \u001b[1;32mFalse\u001b[0m\u001b[1;33m)\u001b[0m\u001b[1;33m\u001b[0m\u001b[1;33m\u001b[0m\u001b[0m\n\u001b[0;32m      4\u001b[0m \u001b[0mreviews\u001b[0m\u001b[1;33m.\u001b[0m\u001b[0mto_sql\u001b[0m\u001b[1;33m(\u001b[0m\u001b[1;34m'REVIEWS'\u001b[0m\u001b[1;33m,\u001b[0m\u001b[0mcon\u001b[0m\u001b[1;33m,\u001b[0m \u001b[0mif_exists\u001b[0m \u001b[1;33m=\u001b[0m \u001b[1;34m'append'\u001b[0m\u001b[1;33m,\u001b[0m\u001b[0mindex\u001b[0m \u001b[1;33m=\u001b[0m \u001b[1;32mFalse\u001b[0m\u001b[1;33m)\u001b[0m\u001b[1;33m\u001b[0m\u001b[1;33m\u001b[0m\u001b[0m\n\u001b[0;32m      5\u001b[0m \u001b[0mnhd\u001b[0m\u001b[1;33m.\u001b[0m\u001b[0mto_sql\u001b[0m\u001b[1;33m(\u001b[0m\u001b[1;34m'NEIGHBOURHOODS'\u001b[0m\u001b[1;33m,\u001b[0m\u001b[0mcon\u001b[0m\u001b[1;33m,\u001b[0m \u001b[0mif_exists\u001b[0m \u001b[1;33m=\u001b[0m \u001b[1;34m'append'\u001b[0m\u001b[1;33m,\u001b[0m\u001b[0mindex\u001b[0m \u001b[1;33m=\u001b[0m \u001b[1;32mFalse\u001b[0m\u001b[1;33m)\u001b[0m\u001b[1;33m\u001b[0m\u001b[1;33m\u001b[0m\u001b[0m\n",
      "\u001b[1;32m~\\anaconda3\\lib\\site-packages\\pandas\\core\\generic.py\u001b[0m in \u001b[0;36mto_sql\u001b[1;34m(self, name, con, schema, if_exists, index, index_label, chunksize, dtype, method)\u001b[0m\n\u001b[0;32m   2985\u001b[0m         \u001b[1;32mfrom\u001b[0m \u001b[0mpandas\u001b[0m\u001b[1;33m.\u001b[0m\u001b[0mio\u001b[0m \u001b[1;32mimport\u001b[0m \u001b[0msql\u001b[0m\u001b[1;33m\u001b[0m\u001b[1;33m\u001b[0m\u001b[0m\n\u001b[0;32m   2986\u001b[0m \u001b[1;33m\u001b[0m\u001b[0m\n\u001b[1;32m-> 2987\u001b[1;33m         return sql.to_sql(\n\u001b[0m\u001b[0;32m   2988\u001b[0m             \u001b[0mself\u001b[0m\u001b[1;33m,\u001b[0m\u001b[1;33m\u001b[0m\u001b[1;33m\u001b[0m\u001b[0m\n\u001b[0;32m   2989\u001b[0m             \u001b[0mname\u001b[0m\u001b[1;33m,\u001b[0m\u001b[1;33m\u001b[0m\u001b[1;33m\u001b[0m\u001b[0m\n",
      "\u001b[1;32m~\\anaconda3\\lib\\site-packages\\pandas\\io\\sql.py\u001b[0m in \u001b[0;36mto_sql\u001b[1;34m(frame, name, con, schema, if_exists, index, index_label, chunksize, dtype, method, engine, **engine_kwargs)\u001b[0m\n\u001b[0;32m    693\u001b[0m         )\n\u001b[0;32m    694\u001b[0m \u001b[1;33m\u001b[0m\u001b[0m\n\u001b[1;32m--> 695\u001b[1;33m     return pandas_sql.to_sql(\n\u001b[0m\u001b[0;32m    696\u001b[0m         \u001b[0mframe\u001b[0m\u001b[1;33m,\u001b[0m\u001b[1;33m\u001b[0m\u001b[1;33m\u001b[0m\u001b[0m\n\u001b[0;32m    697\u001b[0m         \u001b[0mname\u001b[0m\u001b[1;33m,\u001b[0m\u001b[1;33m\u001b[0m\u001b[1;33m\u001b[0m\u001b[0m\n",
      "\u001b[1;32m~\\anaconda3\\lib\\site-packages\\pandas\\io\\sql.py\u001b[0m in \u001b[0;36mto_sql\u001b[1;34m(self, frame, name, if_exists, index, index_label, schema, chunksize, dtype, method, **kwargs)\u001b[0m\n\u001b[0;32m   2186\u001b[0m         )\n\u001b[0;32m   2187\u001b[0m         \u001b[0mtable\u001b[0m\u001b[1;33m.\u001b[0m\u001b[0mcreate\u001b[0m\u001b[1;33m(\u001b[0m\u001b[1;33m)\u001b[0m\u001b[1;33m\u001b[0m\u001b[1;33m\u001b[0m\u001b[0m\n\u001b[1;32m-> 2188\u001b[1;33m         \u001b[1;32mreturn\u001b[0m \u001b[0mtable\u001b[0m\u001b[1;33m.\u001b[0m\u001b[0minsert\u001b[0m\u001b[1;33m(\u001b[0m\u001b[0mchunksize\u001b[0m\u001b[1;33m,\u001b[0m \u001b[0mmethod\u001b[0m\u001b[1;33m)\u001b[0m\u001b[1;33m\u001b[0m\u001b[1;33m\u001b[0m\u001b[0m\n\u001b[0m\u001b[0;32m   2189\u001b[0m \u001b[1;33m\u001b[0m\u001b[0m\n\u001b[0;32m   2190\u001b[0m     \u001b[1;32mdef\u001b[0m \u001b[0mhas_table\u001b[0m\u001b[1;33m(\u001b[0m\u001b[0mself\u001b[0m\u001b[1;33m,\u001b[0m \u001b[0mname\u001b[0m\u001b[1;33m:\u001b[0m \u001b[0mstr\u001b[0m\u001b[1;33m,\u001b[0m \u001b[0mschema\u001b[0m\u001b[1;33m:\u001b[0m \u001b[0mstr\u001b[0m \u001b[1;33m|\u001b[0m \u001b[1;32mNone\u001b[0m \u001b[1;33m=\u001b[0m \u001b[1;32mNone\u001b[0m\u001b[1;33m)\u001b[0m \u001b[1;33m->\u001b[0m \u001b[0mbool\u001b[0m\u001b[1;33m:\u001b[0m\u001b[1;33m\u001b[0m\u001b[1;33m\u001b[0m\u001b[0m\n",
      "\u001b[1;32m~\\anaconda3\\lib\\site-packages\\pandas\\io\\sql.py\u001b[0m in \u001b[0;36minsert\u001b[1;34m(self, chunksize, method)\u001b[0m\n\u001b[0;32m    944\u001b[0m \u001b[1;33m\u001b[0m\u001b[0m\n\u001b[0;32m    945\u001b[0m                 \u001b[0mchunk_iter\u001b[0m \u001b[1;33m=\u001b[0m \u001b[0mzip\u001b[0m\u001b[1;33m(\u001b[0m\u001b[1;33m*\u001b[0m\u001b[1;33m(\u001b[0m\u001b[0marr\u001b[0m\u001b[1;33m[\u001b[0m\u001b[0mstart_i\u001b[0m\u001b[1;33m:\u001b[0m\u001b[0mend_i\u001b[0m\u001b[1;33m]\u001b[0m \u001b[1;32mfor\u001b[0m \u001b[0marr\u001b[0m \u001b[1;32min\u001b[0m \u001b[0mdata_list\u001b[0m\u001b[1;33m)\u001b[0m\u001b[1;33m)\u001b[0m\u001b[1;33m\u001b[0m\u001b[1;33m\u001b[0m\u001b[0m\n\u001b[1;32m--> 946\u001b[1;33m                 \u001b[0mnum_inserted\u001b[0m \u001b[1;33m=\u001b[0m \u001b[0mexec_insert\u001b[0m\u001b[1;33m(\u001b[0m\u001b[0mconn\u001b[0m\u001b[1;33m,\u001b[0m \u001b[0mkeys\u001b[0m\u001b[1;33m,\u001b[0m \u001b[0mchunk_iter\u001b[0m\u001b[1;33m)\u001b[0m\u001b[1;33m\u001b[0m\u001b[1;33m\u001b[0m\u001b[0m\n\u001b[0m\u001b[0;32m    947\u001b[0m                 \u001b[1;31m# GH 46891\u001b[0m\u001b[1;33m\u001b[0m\u001b[1;33m\u001b[0m\u001b[1;33m\u001b[0m\u001b[0m\n\u001b[0;32m    948\u001b[0m                 \u001b[1;32mif\u001b[0m \u001b[0mis_integer\u001b[0m\u001b[1;33m(\u001b[0m\u001b[0mnum_inserted\u001b[0m\u001b[1;33m)\u001b[0m\u001b[1;33m:\u001b[0m\u001b[1;33m\u001b[0m\u001b[1;33m\u001b[0m\u001b[0m\n",
      "\u001b[1;32m~\\anaconda3\\lib\\site-packages\\pandas\\io\\sql.py\u001b[0m in \u001b[0;36m_execute_insert\u001b[1;34m(self, conn, keys, data_iter)\u001b[0m\n\u001b[0;32m   1892\u001b[0m     \u001b[1;32mdef\u001b[0m \u001b[0m_execute_insert\u001b[0m\u001b[1;33m(\u001b[0m\u001b[0mself\u001b[0m\u001b[1;33m,\u001b[0m \u001b[0mconn\u001b[0m\u001b[1;33m,\u001b[0m \u001b[0mkeys\u001b[0m\u001b[1;33m,\u001b[0m \u001b[0mdata_iter\u001b[0m\u001b[1;33m)\u001b[0m \u001b[1;33m->\u001b[0m \u001b[0mint\u001b[0m\u001b[1;33m:\u001b[0m\u001b[1;33m\u001b[0m\u001b[1;33m\u001b[0m\u001b[0m\n\u001b[0;32m   1893\u001b[0m         \u001b[0mdata_list\u001b[0m \u001b[1;33m=\u001b[0m \u001b[0mlist\u001b[0m\u001b[1;33m(\u001b[0m\u001b[0mdata_iter\u001b[0m\u001b[1;33m)\u001b[0m\u001b[1;33m\u001b[0m\u001b[1;33m\u001b[0m\u001b[0m\n\u001b[1;32m-> 1894\u001b[1;33m         \u001b[0mconn\u001b[0m\u001b[1;33m.\u001b[0m\u001b[0mexecutemany\u001b[0m\u001b[1;33m(\u001b[0m\u001b[0mself\u001b[0m\u001b[1;33m.\u001b[0m\u001b[0minsert_statement\u001b[0m\u001b[1;33m(\u001b[0m\u001b[0mnum_rows\u001b[0m\u001b[1;33m=\u001b[0m\u001b[1;36m1\u001b[0m\u001b[1;33m)\u001b[0m\u001b[1;33m,\u001b[0m \u001b[0mdata_list\u001b[0m\u001b[1;33m)\u001b[0m\u001b[1;33m\u001b[0m\u001b[1;33m\u001b[0m\u001b[0m\n\u001b[0m\u001b[0;32m   1895\u001b[0m         \u001b[1;32mreturn\u001b[0m \u001b[0mconn\u001b[0m\u001b[1;33m.\u001b[0m\u001b[0mrowcount\u001b[0m\u001b[1;33m\u001b[0m\u001b[1;33m\u001b[0m\u001b[0m\n\u001b[0;32m   1896\u001b[0m \u001b[1;33m\u001b[0m\u001b[0m\n",
      "\u001b[1;31mIntegrityError\u001b[0m: UNIQUE constraint failed: LISTINGS.listing_id"
     ]
    }
   ],
   "source": [
    "#host.to_sql('HOSTS',con, if_exists = 'append',index = False)\n",
    "listings_tbl.to_sql('LISTINGS',con, if_exists = 'append',index = False)\n",
    "host.to_sql('HOSTS',con, if_exists = 'append',index = False)\n",
    "reviews.to_sql('REVIEWS',con, if_exists = 'append',index = False)\n",
    "nhd.to_sql('NEIGHBOURHOODS',con, if_exists = 'append',index = False)\n",
    "city.to_sql('CITIES',con, if_exists = 'append',index = False)\n"
   ]
  },
  {
   "cell_type": "code",
   "execution_count": 274,
   "id": "acb2a24d",
   "metadata": {},
   "outputs": [
    {
     "data": {
      "text/plain": [
       "Index(['listing_id', 'host_id', 'host_since', 'host_response_time',\n",
       "       'host_response_rate', 'host_acceptance_rate', 'host_is_superhost',\n",
       "       'host_total_listings_count', 'host_has_profile_pic',\n",
       "       'host_identity_verified', 'neighbourhood', 'district', 'city',\n",
       "       'latitude', 'longitude', 'property_type', 'room_type', 'accommodates',\n",
       "       'bedrooms', 'amenities', 'price', 'minimum_nights', 'maximum_nights',\n",
       "       'review_scores_rating', 'review_scores_accuracy',\n",
       "       'review_scores_cleanliness', 'review_scores_checkin',\n",
       "       'review_scores_communication', 'review_scores_location',\n",
       "       'review_scores_value', 'instant_bookable', 'price_usd',\n",
       "       'count_of_reviews'],\n",
       "      dtype='object')"
      ]
     },
     "execution_count": 274,
     "metadata": {},
     "output_type": "execute_result"
    }
   ],
   "source": [
    "listings.columns"
   ]
  },
  {
   "cell_type": "markdown",
   "id": "d8e11dae",
   "metadata": {},
   "source": [
    "## Visuals"
   ]
  },
  {
   "cell_type": "code",
   "execution_count": 275,
   "id": "08745af0",
   "metadata": {},
   "outputs": [
    {
     "data": {
      "image/png": "[encoded data removed]",
      "text/plain": [
       "<Figure size 432x288 with 1 Axes>"
      ]
     },
     "metadata": {
      "needs_background": "light"
     },
     "output_type": "display_data"
    }
   ],
   "source": [
    "import matplotlib.pyplot as plt\n",
    "from collections import Counter\n",
    "\n",
    "counts = dict(Counter(listings_og['city']))\n",
    "#counts = {key: counts[key] for key in desired_order}\n",
    "sorted_counts = dict(sorted(counts.items(), key=lambda item: item[1], reverse=True))\n",
    "\n",
    "\n",
    "# Create bar chart\n",
    "fig, ax = plt.subplots()\n",
    "ax.bar(sorted_counts.keys(), sorted_counts.values())\n",
    "\n",
    "# Set axis labels and title\n",
    "ax.set_xlabel('Origin')\n",
    "ax.set_ylabel('Count')\n",
    "ax.set_title('Listings by City')\n",
    "plt.xticks(rotation=45)\n",
    "\n",
    "# Display the plot\n",
    "plt.show()"
   ]
  },
  {
   "cell_type": "code",
   "execution_count": 276,
   "id": "ebc0107b",
   "metadata": {},
   "outputs": [
    {
     "data": {
      "image/png": "[encoded data removed]",
      "text/plain": [
       "<Figure size 432x288 with 1 Axes>"
      ]
     },
     "metadata": {
      "needs_background": "light"
     },
     "output_type": "display_data"
    }
   ],
   "source": [
    "counts = dict(Counter(listings['city']))\n",
    "#counts = {key: counts[key] for key in desired_order}\n",
    "sorted_counts = dict(sorted(counts.items(), key=lambda item: item[1], reverse=True))\n",
    "\n",
    "\n",
    "# Create bar chart\n",
    "fig, ax = plt.subplots()\n",
    "ax.bar(sorted_counts.keys(), sorted_counts.values())\n",
    "\n",
    "# Set axis labels and title\n",
    "ax.set_xlabel('Origin')\n",
    "ax.set_ylabel('Count')\n",
    "ax.set_title('Listings by City (filtered)')\n",
    "plt.xticks(rotation=45)\n",
    "\n",
    "# Display the plot\n",
    "plt.show()\n"
   ]
  },
  {
   "cell_type": "code",
   "execution_count": 277,
   "id": "71a13405",
   "metadata": {},
   "outputs": [],
   "source": [
    "reviews['year'] = reviews['date'].apply(lambda x: x.split('-')[0])\n",
    "reviews_og['year'] = reviews_og['date'].apply(lambda x: x.split('-')[0])"
   ]
  },
  {
   "cell_type": "code",
   "execution_count": 278,
   "id": "ada5c3d4",
   "metadata": {},
   "outputs": [
    {
     "data": {
      "image/png": "[encoded data removed]",
      "text/plain": [
       "<Figure size 432x288 with 1 Axes>"
      ]
     },
     "metadata": {
      "needs_background": "light"
     },
     "output_type": "display_data"
    }
   ],
   "source": [
    "desired_order = ['2008','2009','2010','2011','2012','2013','2014','2015','2016','2017','2018','2019','2020','2021']\n",
    "counts = dict(Counter(reviews_og['year']))\n",
    "counts = {key: counts[key] for key in desired_order}\n",
    "\n",
    "\n",
    "# Create bar chart\n",
    "fig, ax = plt.subplots()\n",
    "ax.bar(counts.keys(), counts.values())\n",
    "\n",
    "# Set axis labels and title\n",
    "ax.set_xlabel('Origin')\n",
    "ax.set_ylabel('Count')\n",
    "ax.set_title('Yearly Reviews')\n",
    "plt.xticks(rotation=45)\n",
    "\n",
    "# Display the plot\n",
    "plt.show()\n"
   ]
  },
  {
   "cell_type": "code",
   "execution_count": 279,
   "id": "48cbbd67",
   "metadata": {},
   "outputs": [
    {
     "data": {
      "image/png": "[encoded data removed]",
      "text/plain": [
       "<Figure size 432x288 with 1 Axes>"
      ]
     },
     "metadata": {
      "needs_background": "light"
     },
     "output_type": "display_data"
    }
   ],
   "source": [
    "plt.hist(listings['price_usd'], bins=30, edgecolor='black')\n",
    "\n",
    "# Set labels and title\n",
    "plt.xlabel('AirbnbPrice USD')\n",
    "plt.ylabel('Frequency')\n",
    "plt.title('Distribution of Airbnb Price')\n",
    "\n",
    "# Display the histogram\n",
    "plt.show()"
   ]
  },
  {
   "cell_type": "markdown",
   "id": "db9075ee",
   "metadata": {},
   "source": [
    "## One Way Anova"
   ]
  },
  {
   "cell_type": "code",
   "execution_count": 280,
   "id": "23311b91",
   "metadata": {},
   "outputs": [
    {
     "data": {
      "text/plain": [
       "within an hour        63648\n",
       "within a few hours    20189\n",
       "within a day          15277\n",
       "a few days or more     7672\n",
       "Name: host_response_time, dtype: int64"
      ]
     },
     "execution_count": 280,
     "metadata": {},
     "output_type": "execute_result"
    }
   ],
   "source": [
    "listings.host_response_time.value_counts()"
   ]
  },
  {
   "cell_type": "code",
   "execution_count": 281,
   "id": "b097360b",
   "metadata": {},
   "outputs": [
    {
     "name": "stdout",
     "output_type": "stream",
     "text": [
      "stat=7555.562, p=0.000\n"
     ]
    }
   ],
   "source": [
    "from scipy.stats import f_oneway\n",
    "is_paris = listings['city']=='Paris'\n",
    "data1 = listings[is_paris]['price_usd'].to_numpy()\n",
    "\n",
    "is_Ny = listings['city']=='New York'\n",
    "data2 = listings[is_Ny]['price_usd'].to_numpy()\n",
    "\n",
    "is_rome = listings['city']=='Rome'\n",
    "data3 = listings[is_rome]['price_usd'].to_numpy()\n",
    "\n",
    "is_sydney = listings['city']=='Sydney'\n",
    "data4 = listings[is_sydney]['price_usd'].to_numpy()\n",
    "\n",
    "is_mc = listings['city']=='Mexico City'\n",
    "data5 = listings[is_mc]['price_usd'].to_numpy()\n",
    "\n",
    "is_rj = listings['city']=='Rio de Janeiro'\n",
    "data6 = listings[is_rj]['price_usd'].to_numpy()\n",
    "\n",
    "is_ct = listings['city']=='Cape Town'\n",
    "data7 = listings[is_ct]['price_usd'].to_numpy()\n",
    "\n",
    "is_ib = listings['city']=='Istanbul'\n",
    "data8 = listings[is_ib]['price_usd'].to_numpy()\n",
    "\n",
    "is_bk = listings['city']=='Bangkok'\n",
    "data9 = listings[is_bk]['price_usd'].to_numpy()\n",
    "\n",
    "is_hk = listings['city']=='Hong Kong'\n",
    "data10 = listings[is_hk]['price_usd'].to_numpy()\n",
    "\n",
    "stat, p = f_oneway(data1, data2, data3, data4,data5,data6,data7,data8,data9,data10)\n",
    "print('stat=%.3f, p=%.3f' % (stat, p))"
   ]
  },
  {
   "cell_type": "markdown",
   "id": "4595c2f8",
   "metadata": {},
   "source": [
    "Reject null hypothesi, at 5% LOS there is a statistically significant difference among at least one of the city price means."
   ]
  },
  {
   "cell_type": "code",
   "execution_count": 282,
   "id": "74fcfdb8",
   "metadata": {},
   "outputs": [
    {
     "name": "stdout",
     "output_type": "stream",
     "text": [
      "stat=7350.245, p=0.000\n"
     ]
    }
   ],
   "source": [
    "is_apt = listings['property_type']=='Entire apartment'\n",
    "data1 = listings[is_apt]['price_usd'].to_numpy()\n",
    "\n",
    "is_rmapt = listings['property_type']=='Private room in apartment'\n",
    "data2 = listings[is_rmapt]['price_usd'].to_numpy()\n",
    "\n",
    "is_rmhs = listings['property_type']=='Private room in house'\n",
    "data3 = listings[is_rmhs]['price_usd'].to_numpy()\n",
    "\n",
    "is_hs = listings['property_type']=='Entire house'\n",
    "data4 = listings[is_hs]['price_usd'].to_numpy()\n",
    "\n",
    "is_cd = listings['property_type']=='Entire condominium'\n",
    "data5 = listings[is_cd]['price_usd'].to_numpy()\n",
    "\n",
    "stat, p = f_oneway(data1, data2, data3, data4,data5,data6,data7,data8,data9,data10)\n",
    "print('stat=%.3f, p=%.3f' % (stat, p))"
   ]
  },
  {
   "cell_type": "markdown",
   "id": "c8a5b3a4",
   "metadata": {},
   "source": [
    "Reject null hypothesi, at 5% LOS there is a statistically significant difference among at least one of the property type price means."
   ]
  },
  {
   "cell_type": "code",
   "execution_count": 283,
   "id": "2425f712",
   "metadata": {},
   "outputs": [
    {
     "name": "stdout",
     "output_type": "stream",
     "text": [
      "stat=4493.416, p=0.000\n"
     ]
    }
   ],
   "source": [
    "time1 = listings['host_response_time']=='within an hour'\n",
    "data1 = listings[time1]['price_usd'].to_numpy()\n",
    "\n",
    "time2 = listings['host_response_time']=='within a few hours'\n",
    "data2 = listings[time2]['price_usd'].to_numpy()\n",
    "\n",
    "time3 = listings['host_response_time']=='within a day'\n",
    "data3 = listings[time3]['price_usd'].to_numpy()\n",
    "\n",
    "time4 = listings['host_response_time']=='a few days or more'\n",
    "data4 = listings[time4]['price_usd'].to_numpy()\n",
    "\n",
    "stat, p = f_oneway(data1, data2, data3, data4,data5,data6,data7,data8,data9,data10)\n",
    "print('stat=%.3f, p=%.3f' % (stat, p))"
   ]
  },
  {
   "cell_type": "markdown",
   "id": "865c44cf",
   "metadata": {},
   "source": [
    "Reject null hypothesis, at 5% LOS there is a statistically significant difference among at least one of the time responses price means."
   ]
  },
  {
   "cell_type": "markdown",
   "id": "e595eac7",
   "metadata": {},
   "source": [
    "## Random Forest"
   ]
  },
  {
   "cell_type": "code",
   "execution_count": 284,
   "id": "f0fdc674",
   "metadata": {},
   "outputs": [
    {
     "data": {
      "text/plain": [
       "Entire apartment                     99308\n",
       "Private room in apartment            28045\n",
       "Private room in house                 8172\n",
       "Entire house                          7595\n",
       "Entire condominium                    7489\n",
       "Entire loft                           3617\n",
       "Room in boutique hotel                2974\n",
       "Private room in condominium           2397\n",
       "Entire serviced apartment             2185\n",
       "Private room in bed and breakfast     1974\n",
       "Name: property_type, dtype: int64"
      ]
     },
     "execution_count": 284,
     "metadata": {},
     "output_type": "execute_result"
    }
   ],
   "source": [
    "listings.property_type.value_counts().sort_values(ascending = False).head(10)"
   ]
  },
  {
   "cell_type": "code",
   "execution_count": null,
   "id": "888e270d",
   "metadata": {},
   "outputs": [],
   "source": []
  },
  {
   "cell_type": "code",
   "execution_count": 285,
   "id": "47c81b72",
   "metadata": {},
   "outputs": [],
   "source": [
    "# Create list of allowed values\n",
    "allowed_values = ['Entire apartment', 'Private room in apartment', 'Private room in house','Entire house','Entire condominium']\n",
    "\n",
    "# Define lambda function to check if value is in allowed_values list\n",
    "check_allowed = lambda x: x if x in allowed_values else 'other'\n",
    "\n",
    "rf_data = listings.copy()\n",
    "# Apply lambda function to all elements in DataFrame using applymap() method\n",
    "rf_data['property_type'] = rf_data['property_type'].apply(check_allowed)"
   ]
  },
  {
   "cell_type": "code",
   "execution_count": 286,
   "id": "9140305b",
   "metadata": {},
   "outputs": [
    {
     "data": {
      "text/plain": [
       "(182472, 33)"
      ]
     },
     "execution_count": 286,
     "metadata": {},
     "output_type": "execute_result"
    }
   ],
   "source": [
    "rf_data.shape"
   ]
  },
  {
   "cell_type": "code",
   "execution_count": 287,
   "id": "6b9fef8a",
   "metadata": {},
   "outputs": [],
   "source": [
    "rf_data.drop(columns = ['room_type','amenities'],inplace = True)"
   ]
  },
  {
   "cell_type": "code",
   "execution_count": 288,
   "id": "f26e9915",
   "metadata": {},
   "outputs": [
    {
     "data": {
      "text/plain": [
       "Index(['listing_id', 'host_id', 'host_since', 'host_response_time',\n",
       "       'host_response_rate', 'host_acceptance_rate', 'host_is_superhost',\n",
       "       'host_total_listings_count', 'host_has_profile_pic',\n",
       "       'host_identity_verified', 'neighbourhood', 'district', 'city',\n",
       "       'latitude', 'longitude', 'property_type', 'accommodates', 'bedrooms',\n",
       "       'price', 'minimum_nights', 'maximum_nights', 'review_scores_rating',\n",
       "       'review_scores_accuracy', 'review_scores_cleanliness',\n",
       "       'review_scores_checkin', 'review_scores_communication',\n",
       "       'review_scores_location', 'review_scores_value', 'instant_bookable',\n",
       "       'price_usd', 'count_of_reviews'],\n",
       "      dtype='object')"
      ]
     },
     "execution_count": 288,
     "metadata": {},
     "output_type": "execute_result"
    }
   ],
   "source": [
    "rf_data.columns"
   ]
  },
  {
   "cell_type": "code",
   "execution_count": 289,
   "id": "dcc4ccfb",
   "metadata": {},
   "outputs": [],
   "source": [
    "one_hot = pd.get_dummies(rf_data['city'])\n",
    "rf_data = pd.concat([rf_data, one_hot], axis=1)\n",
    "\n",
    "one_hot = pd.get_dummies(rf_data['property_type'])\n",
    "rf_data = pd.concat([rf_data, one_hot], axis=1)\n",
    "\n",
    "one_hot = pd.get_dummies(rf_data['host_response_time'])\n",
    "rf_data = pd.concat([rf_data, one_hot], axis=1)"
   ]
  },
  {
   "cell_type": "code",
   "execution_count": 290,
   "id": "407b387c",
   "metadata": {},
   "outputs": [],
   "source": [
    "rf_data.drop(columns = ['city','property_type','host_response_time'],inplace = True)"
   ]
  },
  {
   "cell_type": "code",
   "execution_count": 291,
   "id": "4ae913e0",
   "metadata": {},
   "outputs": [],
   "source": [
    "rf = pd.merge(rf_data, amenities, on='listing_id', how='inner')\n",
    "rf.drop(columns = ['bedrooms'],inplace =True)"
   ]
  },
  {
   "cell_type": "code",
   "execution_count": 292,
   "id": "c52c2e9a",
   "metadata": {},
   "outputs": [],
   "source": [
    "rf['host_response_rate'] = rf['host_response_rate'].fillna(rf['host_response_rate'].mean())\n",
    "rf['host_acceptance_rate'] = rf['host_acceptance_rate'].fillna(rf['host_acceptance_rate'].mean())"
   ]
  },
  {
   "cell_type": "code",
   "execution_count": 293,
   "id": "62c29753",
   "metadata": {},
   "outputs": [],
   "source": [
    "rf['fridge'] = rf['fridge'] + rf['refrigerator']"
   ]
  },
  {
   "cell_type": "code",
   "execution_count": 297,
   "id": "7a9eacf9",
   "metadata": {},
   "outputs": [
    {
     "data": {
      "text/plain": [
       "Index(['outdoor furniture', 'outdoor shower', 'outlet covers',\n",
       "       'pack ’n play/travel crib', 'paid parking garage off premises',\n",
       "       'paid parking lot off premises', 'paid parking on premises',\n",
       "       'paid street parking off premises', 'pets allowed', 'piano',\n",
       "       'portable fans', 'portable heater', 'private entrance',\n",
       "       'private living room', 'record player', 'rice maker',\n",
       "       'room-darkening shades', 'safe', 'self check-in', 'shower gel',\n",
       "       'single level home', 'ski-in/ski-out', 'smart lock', 'sound system',\n",
       "       'table corner guards', 'toaster', 'trash compactor', 'waterfront',\n",
       "       'window ac unit', 'window guards', 'wine glasses', 'tv', 'wifi',\n",
       "       'kitchen', 'hangers', 'heating', 'iron', 'hot water',\n",
       "       'dedicated workspace', 'shampoo', 'washer', 'air conditioning',\n",
       "       'smoke alarm', 'dishes and silverware', 'refrigerator', 'fridge',\n",
       "       'cooking basics', 'microwave', 'stove', 'coffee', 'oven',\n",
       "       'fire extinguisher', 'body soap', 'dryer', 'carbon monoxide alarm',\n",
       "       'free street parking', 'free parking on premises', 'host greets you',\n",
       "       'patio or balcony', 'paid parking off premises', 'pool', 'breakfast',\n",
       "       'gym', 'lockbox', 'bathtub', 'console', 'grill', 'hot tub'],\n",
       "      dtype='object')"
      ]
     },
     "execution_count": 297,
     "metadata": {},
     "output_type": "execute_result"
    }
   ],
   "source": [
    "rf.columns[100:]"
   ]
  },
  {
   "cell_type": "code",
   "execution_count": 298,
   "id": "d7d8838c",
   "metadata": {},
   "outputs": [
    {
     "name": "stdout",
     "output_type": "stream",
     "text": [
      "R2 score: 0.62\n",
      "RMSE: 52.99\n"
     ]
    }
   ],
   "source": [
    "from sklearn.ensemble import RandomForestRegressor\n",
    "from sklearn.model_selection import train_test_split\n",
    "from sklearn.metrics import r2_score, mean_squared_error\n",
    "\n",
    "\n",
    "# extract the independent and dependent variables\n",
    "X = rf[['host_response_rate',\n",
    "       'host_acceptance_rate', 'host_is_superhost',\n",
    "       'host_total_listings_count', 'host_has_profile_pic',\n",
    "       'host_identity_verified', 'accommodates', 'minimum_nights',\n",
    "       'maximum_nights', 'review_scores_rating', 'review_scores_accuracy',\n",
    "       'review_scores_cleanliness', 'review_scores_checkin',\n",
    "       'review_scores_communication', 'review_scores_location',\n",
    "       'review_scores_value', 'instant_bookable',\n",
    "       'count_of_reviews', 'Bangkok', 'Cape Town', 'Hong Kong', 'Istanbul',\n",
    "       'Mexico City', 'New York', 'Paris', 'Rio de Janeiro', 'Rome', 'Sydney',\n",
    "       'Entire apartment', 'Entire condominium', 'Entire house',\n",
    "       'Private room in apartment', 'Private room in house', 'other',\n",
    "       'a few days or more', 'within a day', 'within a few hours',\n",
    "       'within an hour', 'baby bath', 'baby monitor', 'baby safety gates',\n",
    "       'babysitter recommendations', 'baking sheet', 'barbecue utensils',\n",
    "       'bathroom essentials', 'beach essentials', 'beachfront', 'bed linens',\n",
    "       'bedroom comforts', 'bidet', 'bikes', 'bluetooth sound system',\n",
    "       'board games', 'bread maker', 'building staff', 'ceiling fan',\n",
    "       'changing table', 'children’s books and toys', 'children’s dinnerware',\n",
    "       'cleaning before checkout', 'cleaning products', 'clothing storage',\n",
    "       'clothing storage: closet', 'clothing storage: wardrobe', 'conditioner',\n",
    "       'crib', 'dining table', 'drying rack for clothing', 'ev charger',\n",
    "       'elevator', 'essentials', 'ethernet connection',\n",
    "       'extra pillows and blankets', 'fire pit', 'fireplace guards',\n",
    "       'first aid kit', 'free parking garage on premises – 1 space',\n",
    "       'free residential garage on premises – 1 space', 'freezer',\n",
    "       'garden or backyard', 'high chair', 'indoor fireplace', 'keypad',\n",
    "       'lake access', 'laundromat nearby', 'lock on bedroom door',\n",
    "       'long term stays allowed', 'luggage dropoff allowed', 'mosquito net',\n",
    "       'nespresso machine', 'outdoor dining area','outdoor furniture', 'outdoor shower', 'outlet covers',\n",
    "       'pack ’n play/travel crib', 'paid parking garage off premises',\n",
    "       'paid parking lot off premises', 'paid parking on premises',\n",
    "       'paid street parking off premises', 'pets allowed', 'piano',\n",
    "       'portable fans', 'portable heater', 'private entrance',\n",
    "       'private living room', 'record player', 'rice maker',\n",
    "       'room-darkening shades', 'safe', 'self check-in', 'shower gel',\n",
    "       'single level home', 'ski-in/ski-out', 'smart lock', 'sound system',\n",
    "       'table corner guards', 'toaster', 'trash compactor', 'waterfront',\n",
    "       'window ac unit', 'window guards', 'wine glasses', 'tv', 'wifi',\n",
    "       'kitchen', 'hangers', 'heating', 'iron', 'hot water',\n",
    "       'dedicated workspace', 'shampoo', 'washer', 'air conditioning',\n",
    "       'smoke alarm', 'dishes and silverware', 'refrigerator', 'fridge',\n",
    "       'cooking basics', 'microwave', 'stove', 'coffee', 'oven',\n",
    "       'fire extinguisher', 'body soap', 'dryer', 'carbon monoxide alarm',\n",
    "       'free street parking', 'free parking on premises', 'host greets you',\n",
    "       'patio or balcony', 'paid parking off premises', 'pool', 'breakfast',\n",
    "       'gym', 'lockbox', 'bathtub', 'console', 'grill', 'hot tub']] \n",
    "\n",
    "y = rf['price_usd']                # dependent variable\n",
    "\n",
    "# split the data into training and test sets\n",
    "X_train, X_test, y_train, y_test = train_test_split(X, y, test_size=0.2, random_state=42)\n",
    "\n",
    "# create a Random Forest regression model\n",
    "rf_model = RandomForestRegressor(n_estimators=100, random_state=42)\n",
    "\n",
    "# train the model on the training data\n",
    "rf_model.fit(X_train, y_train)\n",
    "\n",
    "# predict on the test data\n",
    "y_pred = rf_model.predict(X_test)\n",
    "\n",
    "# compute the R2 score and RMSE\n",
    "r2 = r2_score(y_test, y_pred)\n",
    "rmse = mean_squared_error(y_test, y_pred, squared=False)\n",
    "\n",
    "print(\"R2 score: {:.2f}\".format(r2))\n",
    "print(\"RMSE: {:.2f}\".format(rmse))"
   ]
  },
  {
   "cell_type": "code",
   "execution_count": 299,
   "id": "6580d7a7",
   "metadata": {},
   "outputs": [
    {
     "data": {
      "image/png": "[encoded data removed]",
      "text/plain": [
       "<Figure size 432x288 with 1 Axes>"
      ]
     },
     "metadata": {
      "needs_background": "light"
     },
     "output_type": "display_data"
    }
   ],
   "source": [
    "plt.scatter(y_test, y_pred)\n",
    "\n",
    "# set labels for x and y axes\n",
    "plt.xlabel('x')\n",
    "plt.ylabel('y')\n",
    "\n",
    "# set title of the plot\n",
    "plt.title('Scatter Plot')\n",
    "\n",
    "# display the plot\n",
    "plt.show()"
   ]
  },
  {
   "cell_type": "code",
   "execution_count": 300,
   "id": "b42ccdca",
   "metadata": {},
   "outputs": [
    {
     "data": {
      "text/plain": [
       "['host_response_rate',\n",
       " 'host_acceptance_rate',\n",
       " 'host_total_listings_count',\n",
       " 'accommodates',\n",
       " 'minimum_nights',\n",
       " 'maximum_nights',\n",
       " 'review_scores_rating',\n",
       " 'review_scores_cleanliness',\n",
       " 'review_scores_location',\n",
       " 'review_scores_value',\n",
       " 'count_of_reviews',\n",
       " 'Istanbul',\n",
       " 'New York',\n",
       " 'Paris',\n",
       " 'Rio de Janeiro',\n",
       " 'Rome',\n",
       " 'Sydney',\n",
       " 'Entire apartment',\n",
       " 'other',\n",
       " 'elevator',\n",
       " 'indoor fireplace',\n",
       " 'heating',\n",
       " 'washer',\n",
       " 'air conditioning',\n",
       " 'free parking on premises']"
      ]
     },
     "execution_count": 300,
     "metadata": {},
     "output_type": "execute_result"
    }
   ],
   "source": [
    "import numpy as np\n",
    "import matplotlib.pyplot as plt\n",
    "\n",
    "importances = rf_model.feature_importances_\n",
    "\n",
    "importances = [X.columns[i] for i in range(len(importances)) if importances[i] >= importances.mean()]\n",
    "\n",
    "importances"
   ]
  },
  {
   "cell_type": "code",
   "execution_count": 310,
   "id": "9ee61485",
   "metadata": {},
   "outputs": [
    {
     "data": {
      "text/plain": [
       "Index(['listing_id', 'host_id', 'host_since', 'host_response_rate',\n",
       "       'host_acceptance_rate', 'host_is_superhost',\n",
       "       'host_total_listings_count', 'host_has_profile_pic',\n",
       "       'host_identity_verified', 'neighbourhood', 'district', 'latitude',\n",
       "       'longitude', 'accommodates', 'price', 'minimum_nights',\n",
       "       'maximum_nights', 'review_scores_rating', 'review_scores_accuracy',\n",
       "       'review_scores_cleanliness', 'review_scores_checkin',\n",
       "       'review_scores_communication', 'review_scores_location',\n",
       "       'review_scores_value', 'instant_bookable', 'price_usd',\n",
       "       'count_of_reviews', 'Bangkok', 'Cape Town', 'Hong Kong', 'Istanbul',\n",
       "       'Mexico City', 'New York', 'Paris', 'Rio de Janeiro', 'Rome', 'Sydney',\n",
       "       'Entire apartment', 'Entire condominium', 'Entire house',\n",
       "       'Private room in apartment', 'Private room in house', 'other',\n",
       "       'a few days or more', 'within a day', 'within a few hours',\n",
       "       'within an hour'],\n",
       "      dtype='object')"
      ]
     },
     "execution_count": 310,
     "metadata": {},
     "output_type": "execute_result"
    }
   ],
   "source": [
    "rf.columns[:47]"
   ]
  },
  {
   "cell_type": "code",
   "execution_count": 301,
   "id": "1317f4cc",
   "metadata": {},
   "outputs": [
    {
     "name": "stdout",
     "output_type": "stream",
     "text": [
      "R2 score: 0.58\n",
      "RMSE: 56.01\n"
     ]
    }
   ],
   "source": [
    "# extract the independent and dependent variables\n",
    "X = rf[['host_response_rate',\n",
    " 'host_acceptance_rate',\n",
    " 'host_total_listings_count',\n",
    " 'accommodates',\n",
    " 'minimum_nights',\n",
    " 'maximum_nights',\n",
    " 'review_scores_rating',\n",
    " 'review_scores_cleanliness',\n",
    " 'review_scores_location',\n",
    " 'review_scores_value',\n",
    " 'count_of_reviews',\n",
    " 'Istanbul',\n",
    " 'New York',\n",
    " 'Paris',\n",
    " 'Rio de Janeiro',\n",
    " 'Rome',\n",
    " 'Sydney',\n",
    " 'Entire apartment',\n",
    " 'other',\n",
    " 'elevator',\n",
    " 'indoor fireplace',\n",
    " 'heating',\n",
    " 'washer',\n",
    " 'air conditioning',\n",
    " 'free parking on premises']] \n",
    "\n",
    "y = rf['price_usd']                # dependent variable\n",
    "\n",
    "# split the data into training and test sets\n",
    "X_train, X_test, y_train, y_test = train_test_split(X, y, test_size=0.2, random_state=42)\n",
    "\n",
    "# create a Random Forest regression model\n",
    "rf_model = RandomForestRegressor(n_estimators=150, random_state=42)\n",
    "\n",
    "# train the model on the training data\n",
    "rf_model.fit(X_train, y_train)\n",
    "\n",
    "# predict on the test data\n",
    "y_pred_rf = rf_model.predict(X_test)\n",
    "\n",
    "# compute the R2 score and RMSE\n",
    "r2 = r2_score(y_test, y_pred_rf)\n",
    "rmse = mean_squared_error(y_test, y_pred_rf, squared=False)\n",
    "\n",
    "print(\"R2 score: {:.2f}\".format(r2))\n",
    "print(\"RMSE: {:.2f}\".format(rmse))"
   ]
  },
  {
   "cell_type": "code",
   "execution_count": 312,
   "id": "6fb91945",
   "metadata": {},
   "outputs": [
    {
     "data": {
      "image/png": "[encoded data removed]",
      "text/plain": [
       "<Figure size 432x288 with 1 Axes>"
      ]
     },
     "metadata": {
      "needs_background": "light"
     },
     "output_type": "display_data"
    }
   ],
   "source": [
    "plt.scatter(y_test, y_pred_rf)\n",
    "\n",
    "# set labels for x and y axes\n",
    "plt.xlabel('Test')\n",
    "plt.ylabel('Predicted')\n",
    "\n",
    "# set title of the plot\n",
    "plt.title('Predicted vs Actual Prices')\n",
    "\n",
    "# display the plot\n",
    "plt.show()"
   ]
  },
  {
   "cell_type": "markdown",
   "id": "20a19a1b",
   "metadata": {},
   "source": [
    "## Linear Regression"
   ]
  },
  {
   "cell_type": "code",
   "execution_count": 313,
   "id": "a8fecbd3",
   "metadata": {},
   "outputs": [],
   "source": [
    "import statsmodels.api as sm\n",
    "\n",
    "# define features (X) and target variable (y)\n",
    "X = rf[['host_response_rate',\n",
    "       'host_acceptance_rate', 'host_is_superhost',\n",
    "       'host_total_listings_count', 'host_has_profile_pic',\n",
    "       'host_identity_verified', 'accommodates', 'minimum_nights',\n",
    "       'maximum_nights', 'review_scores_rating', 'review_scores_accuracy',\n",
    "       'review_scores_cleanliness', 'review_scores_checkin',\n",
    "       'review_scores_communication', 'review_scores_location',\n",
    "       'review_scores_value', 'instant_bookable',\n",
    "       'count_of_reviews', 'Bangkok', 'Cape Town', 'Hong Kong', 'Istanbul',\n",
    "       'Mexico City', 'New York', 'Paris', 'Rio de Janeiro', 'Rome', 'Sydney',\n",
    "       'Entire apartment', 'Entire condominium', 'Entire house',\n",
    "       'Private room in apartment', 'Private room in house', 'other',\n",
    "       'a few days or more', 'within a day', 'within a few hours',\n",
    "       'within an hour', 'baby bath', 'baby monitor', 'baby safety gates',\n",
    "       'babysitter recommendations', 'baking sheet', 'barbecue utensils',\n",
    "       'bathroom essentials', 'beach essentials', 'beachfront', 'bed linens',\n",
    "       'bedroom comforts', 'bidet', 'bikes', 'bluetooth sound system',\n",
    "       'board games', 'bread maker', 'building staff', 'ceiling fan',\n",
    "       'changing table', 'children’s books and toys', 'children’s dinnerware',\n",
    "       'cleaning before checkout', 'cleaning products', 'clothing storage',\n",
    "       'clothing storage: closet', 'clothing storage: wardrobe', 'conditioner',\n",
    "       'crib', 'dining table', 'drying rack for clothing', 'ev charger',\n",
    "       'elevator', 'essentials', 'ethernet connection',\n",
    "       'extra pillows and blankets', 'fire pit', 'fireplace guards',\n",
    "       'first aid kit', 'free parking garage on premises – 1 space',\n",
    "       'free residential garage on premises – 1 space', 'freezer',\n",
    "       'garden or backyard', 'high chair', 'indoor fireplace', 'keypad',\n",
    "       'lake access', 'laundromat nearby', 'lock on bedroom door',\n",
    "       'long term stays allowed', 'luggage dropoff allowed', 'mosquito net',\n",
    "       'nespresso machine', 'outdoor dining area','outdoor furniture', 'outdoor shower',\n",
    "       'outlet covers', 'pack ’n play/travel crib',\n",
    "       'paid parking garage off premises', 'paid parking lot off premises',\n",
    "       'paid parking on premises', 'paid street parking off premises',\n",
    "       'pets allowed', 'piano', 'portable fans', 'portable heater',\n",
    "       'private entrance', 'private living room', 'record player',\n",
    "       'rice maker', 'room-darkening shades', 'safe', 'self check-in',\n",
    "       'shower gel', 'single level home', 'ski-in/ski-out', 'smart lock',\n",
    "       'sound system', 'table corner guards', 'toaster', 'trash compactor',\n",
    "       'waterfront', 'window ac unit', 'window guards', 'wine glasses', 'tv',\n",
    "       'wifi', 'kitchen', 'hangers', 'heating', 'iron', 'hot water',\n",
    "       'dedicated workspace', 'shampoo', 'washer', 'air conditioning',\n",
    "       'smoke alarm', 'dishes and silverware', 'refrigerator', 'fridge',\n",
    "       'cooking basics', 'microwave', 'stove', 'coffee', 'oven',\n",
    "       'fire extinguisher', 'body soap', 'dryer', 'carbon monoxide alarm',\n",
    "       'free street parking', 'free parking on premises', 'host greets you',\n",
    "       'patio or balcony', 'paid parking off premises', 'pool', 'breakfast',\n",
    "       'gym', 'lockbox', 'bathtub', 'console', 'grill', 'hot tub']] \n",
    "\n",
    "y = rf['price_usd']                # dependent variable\n",
    "\n",
    "# transform test data using the fitted scaler\n",
    "\n",
    "# add constant term to features\n",
    "X = sm.add_constant(X)\n",
    "\n",
    "# fit initial multiple linear regression model\n",
    "model = sm.OLS(y, X).fit()\n",
    "\n",
    "# get summary of model statistics\n",
    "\n",
    "# perform backward elimination\n",
    "\n",
    "\n",
    "\n"
   ]
  },
  {
   "cell_type": "code",
   "execution_count": 314,
   "id": "5e665a56",
   "metadata": {},
   "outputs": [
    {
     "name": "stdout",
     "output_type": "stream",
     "text": [
      "                            OLS Regression Results                            \n",
      "==============================================================================\n",
      "Dep. Variable:              price_usd   R-squared:                       0.523\n",
      "Model:                            OLS   Adj. R-squared:                  0.522\n",
      "Method:                 Least Squares   F-statistic:                     1766.\n",
      "Date:                Thu, 11 May 2023   Prob (F-statistic):               0.00\n",
      "Time:                        12:48:06   Log-Likelihood:            -1.0059e+06\n",
      "No. Observations:              182472   AIC:                         2.012e+06\n",
      "Df Residuals:                  182358   BIC:                         2.013e+06\n",
      "Df Model:                         113                                         \n",
      "Covariance Type:            nonrobust                                         \n",
      "=================================================================================================================\n",
      "                                                    coef    std err          t      P>|t|      [0.025      0.975]\n",
      "-----------------------------------------------------------------------------------------------------------------\n",
      "const                                           -10.6463      3.661     -2.908      0.004     -17.822      -3.470\n",
      "host_response_rate                                4.1023      0.840      4.885      0.000       2.456       5.748\n",
      "host_acceptance_rate                             -3.8070      0.704     -5.410      0.000      -5.186      -2.428\n",
      "host_is_superhost                                 2.3903      0.373      6.413      0.000       1.660       3.121\n",
      "host_total_listings_count                         0.0418      0.002     18.230      0.000       0.037       0.046\n",
      "host_has_profile_pic                             -7.3048      3.365     -2.171      0.030     -13.900      -0.710\n",
      "host_identity_verified                            2.4390      0.352      6.927      0.000       1.749       3.129\n",
      "accommodates                                     14.2736      0.086    166.453      0.000      14.105      14.442\n",
      "review_scores_rating                              0.7408      0.030     24.574      0.000       0.682       0.800\n",
      "review_scores_accuracy                           -0.8058      0.254     -3.173      0.002      -1.303      -0.308\n",
      "review_scores_cleanliness                         3.7129      0.191     19.425      0.000       3.338       4.088\n",
      "review_scores_checkin                            -1.2742      0.259     -4.924      0.000      -1.781      -0.767\n",
      "review_scores_communication                      -2.1881      0.268     -8.158      0.000      -2.714      -1.662\n",
      "review_scores_location                            7.2665      0.218     33.356      0.000       6.839       7.693\n",
      "review_scores_value                              -9.3733      0.235    -39.828      0.000      -9.835      -8.912\n",
      "instant_bookable                                 -3.0975      0.316     -9.805      0.000      -3.717      -2.478\n",
      "count_of_reviews                                 -0.0836      0.003    -26.788      0.000      -0.090      -0.078\n",
      "Bangkok                                         -59.4526      0.766    -77.645      0.000     -60.953     -57.952\n",
      "Cape Town                                       -30.0537      0.732    -41.084      0.000     -31.487     -28.620\n",
      "Hong Kong                                       -12.8033      1.029    -12.446      0.000     -14.820     -10.787\n",
      "Istanbul                                        -73.7832      0.704   -104.869      0.000     -75.162     -72.404\n",
      "Mexico City                                     -23.9733      0.700    -34.245      0.000     -25.345     -22.601\n",
      "New York                                         39.1052      0.640     61.083      0.000      37.850      40.360\n",
      "Paris                                            34.2707      0.616     55.651      0.000      33.064      35.478\n",
      "Rio de Janeiro                                  121.8886      0.731    166.726      0.000     120.456     123.321\n",
      "Rome                                            -18.6842      0.637    -29.351      0.000     -19.932     -17.436\n",
      "Sydney                                           12.8394      0.613     20.945      0.000      11.638      14.041\n",
      "Entire apartment                                  2.5085      0.414      6.066      0.000       1.698       3.319\n",
      "Entire house                                     33.2655      0.837     39.742      0.000      31.625      34.906\n",
      "Private room in apartment                       -19.8843      0.531    -37.447      0.000     -20.925     -18.844\n",
      "Private room in house                           -19.2472      0.795    -24.200      0.000     -20.806     -17.688\n",
      "within a day                                      1.5864      0.548      2.897      0.004       0.513       2.660\n",
      "within a few hours                               -3.3422      0.514     -6.508      0.000      -4.349      -2.336\n",
      "within an hour                                   -8.6939      0.409    -21.264      0.000      -9.495      -7.893\n",
      "baby bath                                       -10.1403      1.267     -8.000      0.000     -12.625      -7.656\n",
      "baby monitor                                     12.3441      2.488      4.961      0.000       7.467      17.221\n",
      "babysitter recommendations                        8.0015      0.980      8.165      0.000       6.081       9.922\n",
      "bathroom essentials                              12.7905      1.180     10.840      0.000      10.478      15.103\n",
      "beach essentials                                 10.5029      1.127      9.318      0.000       8.294      12.712\n",
      "beachfront                                       17.4209      0.952     18.307      0.000      15.556      19.286\n",
      "bedroom comforts                                 12.7905      1.180     10.840      0.000      10.478      15.103\n",
      "bidet                                            12.6542      3.101      4.081      0.000       6.577      18.732\n",
      "bluetooth sound system                           33.2441      5.952      5.585      0.000      21.578      44.911\n",
      "board games                                      -7.4764      3.530     -2.118      0.034     -14.395      -0.557\n",
      "bread maker                                      -7.3579      1.484     -4.959      0.000     -10.266      -4.450\n",
      "building staff                                    6.0161      0.613      9.821      0.000       4.815       7.217\n",
      "ceiling fan                                      -7.6771      1.397     -5.495      0.000     -10.415      -4.939\n",
      "changing table                                   -6.0420      1.503     -4.021      0.000      -8.987      -3.097\n",
      "children’s books and toys                         7.7948      0.795      9.802      0.000       6.236       9.353\n",
      "children’s dinnerware                            -4.6342      1.112     -4.168      0.000      -6.813      -2.455\n",
      "cleaning before checkout                         -5.4448      0.652     -8.345      0.000      -6.724      -4.166\n",
      "cleaning products                                -3.9807      1.556     -2.558      0.011      -7.030      -0.931\n",
      "clothing storage: closet                          7.7616      2.884      2.691      0.007       2.109      13.414\n",
      "clothing storage: wardrobe                        6.1990      3.126      1.983      0.047       0.071      12.327\n",
      "crib                                              7.7746      0.668     11.633      0.000       6.465       9.085\n",
      "drying rack for clothing                        -10.4166      1.777     -5.863      0.000     -13.899      -6.935\n",
      "elevator                                          5.1331      0.327     15.719      0.000       4.493       5.773\n",
      "essentials                                       -6.2607      0.675     -9.273      0.000      -7.584      -4.937\n",
      "extra pillows and blankets                       -2.1593      0.383     -5.636      0.000      -2.910      -1.408\n",
      "fire pit                                        -16.5445      5.401     -3.063      0.002     -27.130      -5.959\n",
      "first aid kit                                    -1.6176      0.359     -4.511      0.000      -2.320      -0.915\n",
      "free residential garage on premises – 1 space    25.6857      5.758      4.461      0.000      14.400      36.971\n",
      "garden or backyard                               -2.0077      0.511     -3.929      0.000      -3.009      -1.006\n",
      "indoor fireplace                                 21.3480      0.629     33.948      0.000      20.116      22.581\n",
      "keypad                                           -2.3132      0.851     -2.718      0.007      -3.982      -0.645\n",
      "lake access                                     -11.7478      2.026     -5.797      0.000     -15.720      -7.776\n",
      "laundromat nearby                                -6.4525      0.974     -6.624      0.000      -8.362      -4.543\n",
      "lock on bedroom door                             -4.8913      0.495     -9.880      0.000      -5.862      -3.921\n",
      "nespresso machine                                11.0726      1.261      8.778      0.000       8.600      13.545\n",
      "outdoor furniture                                 9.0496      2.205      4.104      0.000       4.727      13.372\n",
      "outdoor shower                                   16.9541      5.053      3.355      0.001       7.051      26.857\n",
      "outlet covers                                    -6.0638      1.439     -4.215      0.000      -8.883      -3.244\n",
      "pack ’n play/travel crib                          8.5795      0.695     12.354      0.000       7.218       9.941\n",
      "pets allowed                                    -12.4084      4.667     -2.659      0.008     -21.556      -3.261\n",
      "piano                                             7.1679      2.938      2.440      0.015       1.409      12.926\n",
      "portable fans                                    -4.3681      1.099     -3.975      0.000      -6.522      -2.214\n",
      "private entrance                                 -1.0447      0.349     -2.990      0.003      -1.729      -0.360\n",
      "rice maker                                       -5.4716      2.253     -2.428      0.015      -9.888      -1.055\n",
      "self check-in                                   -10.1516      2.982     -3.404      0.001     -15.997      -4.307\n",
      "shower gel                                       -2.2855      0.542     -4.219      0.000      -3.347      -1.224\n",
      "single level home                                -5.6098      0.550    -10.193      0.000      -6.688      -4.531\n",
      "smart lock                                       -3.1066      1.017     -3.055      0.002      -5.100      -1.113\n",
      "sound system                                     13.7838      1.877      7.342      0.000      10.104      17.464\n",
      "waterfront                                        4.5906      1.251      3.670      0.000       2.139       7.042\n",
      "window guards                                    -4.8893      0.858     -5.699      0.000      -6.571      -3.208\n",
      "tv                                               11.9894      0.371     32.300      0.000      11.262      12.717\n",
      "wifi                                              3.4369      0.717      4.796      0.000       2.032       4.842\n",
      "kitchen                                          -9.0330      0.543    -16.624      0.000     -10.098      -7.968\n",
      "heating                                           3.0654      0.482      6.362      0.000       2.121       4.010\n",
      "hot water                                        -2.8992      0.402     -7.215      0.000      -3.687      -2.112\n",
      "dedicated workspace                               1.1491      0.341      3.371      0.001       0.481       1.817\n",
      "shampoo                                           3.5454      0.349     10.146      0.000       2.861       4.230\n",
      "washer                                            6.1404      0.359     17.084      0.000       5.436       6.845\n",
      "air conditioning                                 12.3919      0.421     29.437      0.000      11.567      13.217\n",
      "smoke alarm                                      -3.0984      0.408     -7.586      0.000      -3.899      -2.298\n",
      "refrigerator                                     -5.1063      0.557     -9.163      0.000      -6.199      -4.014\n",
      "cooking basics                                   -1.6433      0.498     -3.301      0.001      -2.619      -0.667\n",
      "microwave                                        -3.3533      0.433     -7.736      0.000      -4.203      -2.504\n",
      "stove                                            -1.5933      0.497     -3.203      0.001      -2.568      -0.618\n",
      "coffee                                            9.1783      0.405     22.640      0.000       8.384       9.973\n",
      "oven                                              5.5313      0.455     12.166      0.000       4.640       6.422\n",
      "fire extinguisher                                 2.8843      0.355      8.115      0.000       2.188       3.581\n",
      "body soap                                        -3.2864      0.920     -3.573      0.000      -5.089      -1.484\n",
      "dryer                                             7.6001      0.408     18.606      0.000       6.800       8.401\n",
      "carbon monoxide alarm                             1.3361      0.405      3.299      0.001       0.542       2.130\n",
      "free street parking                              -7.9707      0.381    -20.944      0.000      -8.717      -7.225\n",
      "free parking on premises                          3.0389      0.415      7.320      0.000       2.225       3.852\n",
      "host greets you                                   1.0614      0.387      2.744      0.006       0.303       1.820\n",
      "patio or balcony                                  4.2950      0.418     10.281      0.000       3.476       5.114\n",
      "paid parking off premises                         2.6542      0.426      6.227      0.000       1.819       3.490\n",
      "pool                                             13.3586      0.554     24.114      0.000      12.273      14.444\n",
      "lockbox                                          -1.1353      0.523     -2.171      0.030      -2.161      -0.110\n",
      "bathtub                                          10.2150      0.583     17.514      0.000       9.072      11.358\n",
      "console                                          -4.8304      1.359     -3.554      0.000      -7.494      -2.166\n",
      "grill                                             2.9762      0.725      4.102      0.000       1.554       4.398\n",
      "hot tub                                           5.2869      0.745      7.097      0.000       3.827       6.747\n",
      "==============================================================================\n",
      "Omnibus:                    64685.299   Durbin-Watson:                   1.690\n",
      "Prob(Omnibus):                  0.000   Jarque-Bera (JB):           347525.214\n",
      "Skew:                           1.625   Prob(JB):                         0.00\n",
      "Kurtosis:                       8.928   Cond. No.                     7.40e+16\n",
      "==============================================================================\n",
      "\n",
      "Notes:\n",
      "[1] Standard Errors assume that the covariance matrix of the errors is correctly specified.\n",
      "[2] The smallest eigenvalue is 3.54e-25. This might indicate that there are\n",
      "strong multicollinearity problems or that the design matrix is singular.\n"
     ]
    }
   ],
   "source": [
    "while True:\n",
    "    # get p-values for each feature\n",
    "    pvalues = model.pvalues[1:]\n",
    "\n",
    "    # find the feature with the highest p-value\n",
    "    max_pvalue = pvalues.max()\n",
    "\n",
    "    # if the highest p-value is greater than the significance level (e.g. 0.05),\n",
    "    # remove the corresponding feature and refit the model\n",
    "    if max_pvalue > 0.05:\n",
    "        max_pvalue_idx = pvalues.idxmax()\n",
    "        X = X.drop(columns = [max_pvalue_idx])\n",
    "        model = sm.OLS(y, X).fit()\n",
    "    else:\n",
    "        break\n",
    "# print final model statistics\n",
    "print(model.summary())\n"
   ]
  },
  {
   "cell_type": "code",
   "execution_count": 316,
   "id": "434fe555",
   "metadata": {},
   "outputs": [
    {
     "name": "stdout",
     "output_type": "stream",
     "text": [
      "Final set of columns used in backward elimination: ['const', 'host_response_rate', 'host_acceptance_rate', 'host_is_superhost', 'host_total_listings_count', 'host_has_profile_pic', 'host_identity_verified', 'accommodates', 'review_scores_rating', 'review_scores_accuracy', 'review_scores_cleanliness', 'review_scores_checkin', 'review_scores_communication', 'review_scores_location', 'review_scores_value', 'instant_bookable', 'count_of_reviews', 'Bangkok', 'Cape Town', 'Hong Kong', 'Istanbul', 'Mexico City', 'New York', 'Paris', 'Rio de Janeiro', 'Rome', 'Sydney', 'Entire apartment', 'Entire house', 'Private room in apartment', 'Private room in house', 'within a day', 'within a few hours', 'within an hour', 'baby bath', 'baby monitor', 'babysitter recommendations', 'bathroom essentials', 'beach essentials', 'beachfront', 'bedroom comforts', 'bidet', 'bluetooth sound system', 'board games', 'bread maker', 'building staff', 'ceiling fan', 'changing table', 'children’s books and toys', 'children’s dinnerware', 'cleaning before checkout', 'cleaning products', 'clothing storage: closet', 'clothing storage: wardrobe', 'crib', 'drying rack for clothing', 'elevator', 'essentials', 'extra pillows and blankets', 'fire pit', 'first aid kit', 'free residential garage on premises – 1 space', 'garden or backyard', 'indoor fireplace', 'keypad', 'lake access', 'laundromat nearby', 'lock on bedroom door', 'nespresso machine', 'outdoor furniture', 'outdoor shower', 'outlet covers', 'pack ’n play/travel crib', 'pets allowed', 'piano', 'portable fans', 'private entrance', 'rice maker', 'self check-in', 'shower gel', 'single level home', 'smart lock', 'sound system', 'waterfront', 'window guards', 'tv', 'wifi', 'kitchen', 'heating', 'hot water', 'dedicated workspace', 'shampoo', 'washer', 'air conditioning', 'smoke alarm', 'refrigerator', 'cooking basics', 'microwave', 'stove', 'coffee', 'oven', 'fire extinguisher', 'body soap', 'dryer', 'carbon monoxide alarm', 'free street parking', 'free parking on premises', 'host greets you', 'patio or balcony', 'paid parking off premises', 'pool', 'lockbox', 'bathtub', 'console', 'grill', 'hot tub']\n"
     ]
    },
    {
     "data": {
      "text/plain": [
       "(182472, 116)"
      ]
     },
     "execution_count": 316,
     "metadata": {},
     "output_type": "execute_result"
    }
   ],
   "source": [
    "print(\"Final set of columns used in backward elimination:\", list(X.columns))\n",
    "X.shape"
   ]
  },
  {
   "cell_type": "code",
   "execution_count": 317,
   "id": "9241f25c",
   "metadata": {},
   "outputs": [
    {
     "name": "stdout",
     "output_type": "stream",
     "text": [
      "R-squared:  0.5246907872268353\n",
      "RMSE:  59.65612114458435\n"
     ]
    }
   ],
   "source": [
    "# Import necessary libraries\n",
    "import numpy as np\n",
    "from sklearn.linear_model import LinearRegression\n",
    "from sklearn.metrics import r2_score, mean_squared_error\n",
    "\n",
    "# Create some sample data\n",
    "X = rf[[ 'host_response_rate', 'host_acceptance_rate', 'host_is_superhost', 'host_total_listings_count', \n",
    "        'host_has_profile_pic', 'host_identity_verified', 'accommodates', 'review_scores_rating', 'review_scores_accuracy',\n",
    "        'review_scores_cleanliness', 'review_scores_checkin', 'review_scores_communication', 'review_scores_location',\n",
    "        'review_scores_value', 'instant_bookable', 'count_of_reviews', 'Bangkok', 'Cape Town', 'Hong Kong', 'Istanbul', \n",
    "        'Mexico City', 'New York', 'Paris', 'Rio de Janeiro', 'Rome', 'Sydney', 'Entire apartment', 'Entire house',\n",
    "        'Private room in apartment', 'Private room in house', 'within a day', 'within a few hours', 'within an hour',\n",
    "        'baby bath', 'baby monitor', 'babysitter recommendations', 'bathroom essentials', 'beach essentials',\n",
    "        'beachfront', 'bedroom comforts', 'bidet', 'bluetooth sound system', 'board games', 'bread maker', 'building staff',\n",
    "        'ceiling fan', 'changing table', 'children’s books and toys', 'children’s dinnerware', 'cleaning before checkout',\n",
    "        'cleaning products', 'clothing storage: closet', 'clothing storage: wardrobe', 'crib', 'drying rack for clothing',\n",
    "        'elevator', 'essentials', 'extra pillows and blankets', 'fire pit', 'first aid kit',\n",
    "        'free residential garage on premises – 1 space', 'garden or backyard', 'indoor fireplace', 'keypad', 'lake access',\n",
    "        'laundromat nearby', 'lock on bedroom door', 'nespresso machine', 'outdoor furniture', 'outdoor shower',\n",
    "        'outlet covers', 'pack ’n play/travel crib', 'pets allowed', 'piano', 'portable fans', 'private entrance',\n",
    "        'rice maker', 'self check-in', 'shower gel', 'single level home', 'smart lock', 'sound system', 'waterfront',\n",
    "        'window guards', 'tv', 'wifi', 'kitchen', 'heating', 'hot water', 'dedicated workspace', 'shampoo', 'washer',\n",
    "        'air conditioning', 'smoke alarm', 'refrigerator', 'cooking basics', 'microwave', 'stove', 'coffee', 'oven',\n",
    "        'fire extinguisher', 'body soap', 'dryer', 'carbon monoxide alarm', 'free street parking', 'free parking on premises',\n",
    "        'host greets you', 'patio or balcony', 'paid parking off premises', 'pool', 'lockbox', 'bathtub', 'console', 'grill',\n",
    "        'hot tub']] \n",
    "\n",
    "y = rf['price_usd']                \n",
    "\n",
    "\n",
    "X_train, X_test, y_train, y_test = train_test_split(X, y, test_size=0.2, random_state=42)\n",
    "\n",
    "# Create a linear regression object\n",
    "model = LinearRegression()\n",
    "\n",
    "# Fit the model to the data\n",
    "model.fit(X_train, y_train)\n",
    "\n",
    "# Predict y using the model and input features\n",
    "y_pred_lr = model.predict(X_test)\n",
    "\n",
    "# Calculate R-squared and RMSE\n",
    "r2 = r2_score(y_test, y_pred_lr)\n",
    "rmse = np.sqrt(mean_squared_error(y_test, y_pred_lr))\n",
    "\n",
    "# Print the predicted y values, R-squared, and RMSE\n",
    "print('R-squared: ', r2)\n",
    "print('RMSE: ', rmse)\n"
   ]
  },
  {
   "cell_type": "code",
   "execution_count": 318,
   "id": "8be546c3",
   "metadata": {},
   "outputs": [
    {
     "data": {
      "image/png": "[encoded data removed]",
      "text/plain": [
       "<Figure size 432x288 with 1 Axes>"
      ]
     },
     "metadata": {
      "needs_background": "light"
     },
     "output_type": "display_data"
    }
   ],
   "source": [
    "plt.scatter(y_test, y_pred_rf)\n",
    "\n",
    "# set labels for x and y axes\n",
    "plt.xlabel('Test')\n",
    "plt.ylabel('Predicted')\n",
    "\n",
    "# set title of the plot\n",
    "plt.title('Predicted vs Actual Prices')\n",
    "\n",
    "# display the plot\n",
    "plt.show()"
   ]
  },
  {
   "cell_type": "markdown",
   "id": "bb6585fc",
   "metadata": {},
   "source": [
    "## Lasso & Ridge"
   ]
  },
  {
   "cell_type": "code",
   "execution_count": 83,
   "id": "c98131ee",
   "metadata": {},
   "outputs": [
    {
     "name": "stdout",
     "output_type": "stream",
     "text": [
      "Lasso MSE: 3684.548855746507\n",
      "Lasso R-squared:  0.5079032150580716\n",
      "Ridge MSE: 3558.8436470093156\n",
      "Ridge R-squared:  0.5246920083382989\n"
     ]
    }
   ],
   "source": [
    "from sklearn.linear_model import Lasso, Ridge\n",
    "from sklearn.datasets import load_boston\n",
    "from sklearn.model_selection import train_test_split\n",
    "from sklearn.metrics import mean_squared_error\n",
    "\n",
    "# Split the dataset into training and testing sets\n",
    "X_train, X_test, y_train, y_test = train_test_split(X, y, test_size=0.2, random_state=42)\n",
    "\n",
    "# Lasso Regression\n",
    "lasso = Lasso(alpha=0.5)  # Set the regularization parameter (alpha)\n",
    "lasso.fit(X_train, y_train)\n",
    "lasso_predictions = lasso.predict(X_test)\n",
    "lasso_mse = mean_squared_error(y_test, lasso_predictions)\n",
    "lasso_r2 = r2_score(y_test, lasso_predictions)\n",
    "\n",
    "print(\"Lasso MSE:\", lasso_mse)\n",
    "print('Lasso R-squared: ', lasso_r2)\n",
    "\n",
    "# Ridge Regression\n",
    "ridge = Ridge(alpha=0.5)  # Set the regularization parameter (alpha)\n",
    "ridge.fit(X_train, y_train)\n",
    "ridge_predictions = ridge.predict(X_test)\n",
    "ridge_mse = mean_squared_error(y_test, ridge_predictions)\n",
    "ridge_r2 = r2_score(y_test, ridge_predictions)\n",
    "\n",
    "print(\"Ridge MSE:\", ridge_mse)\n",
    "print('Ridge R-squared: ', ridge_r2)\n"
   ]
  },
  {
   "cell_type": "markdown",
   "id": "2e4d218c",
   "metadata": {},
   "source": [
    "## Ensemble - RF and LR"
   ]
  },
  {
   "cell_type": "code",
   "execution_count": 87,
   "id": "9aea5cdd",
   "metadata": {},
   "outputs": [
    {
     "name": "stdout",
     "output_type": "stream",
     "text": [
      "Ensemble Model R-squared: 0.5949206869064543\n",
      "Ensemble RMSE:  55.072770960780076\n"
     ]
    }
   ],
   "source": [
    "ensemble_pred = (y_pred_lr + y_pred_rf) / 2\n",
    "ensemble_r2 = r2_score(y_test, ensemble_pred)\n",
    "\n",
    "# evaluate the performance of the ensemble model\n",
    "ensemble_score = mean_squared_error(y_test, ensemble_pred)\n",
    "ensemble_rmse = np.sqrt(mean_squared_error(y_test, ensemble_pred))\n",
    "\n",
    "print(\"Ensemble Model R-squared:\", ensemble_r2)\n",
    "print('Ensemble RMSE: ', ensemble_rmse)\n"
   ]
  },
  {
   "cell_type": "code",
   "execution_count": 320,
   "id": "dfb744ad",
   "metadata": {},
   "outputs": [
    {
     "data": {
      "image/png": "[encoded data removed]",
      "text/plain": [
       "<Figure size 432x288 with 1 Axes>"
      ]
     },
     "metadata": {
      "needs_background": "light"
     },
     "output_type": "display_data"
    }
   ],
   "source": [
    "plt.scatter(y_test, ensemble_pred)\n",
    "\n",
    "# set labels for x and y axes\n",
    "plt.xlabel('Test')\n",
    "plt.ylabel('Predicted')\n",
    "\n",
    "# set title of the plot\n",
    "plt.title('Predicted vs Actual Prices')\n",
    "\n",
    "# display the plot\n",
    "plt.show()"
   ]
  },
  {
   "cell_type": "markdown",
   "id": "dee9e699",
   "metadata": {},
   "source": [
    "## Break price into a categorical variable"
   ]
  },
  {
   "cell_type": "code",
   "execution_count": 321,
   "id": "2c49f6fa",
   "metadata": {},
   "outputs": [
    {
     "data": {
      "text/plain": [
       "count    182472.000000\n",
       "mean        101.338114\n",
       "std          86.771465\n",
       "min           1.949400\n",
       "25%          43.981000\n",
       "50%          76.728000\n",
       "75%         126.209675\n",
       "max         500.400000\n",
       "Name: price_usd, dtype: float64"
      ]
     },
     "execution_count": 321,
     "metadata": {},
     "output_type": "execute_result"
    }
   ],
   "source": [
    "rf.price_usd.describe()"
   ]
  },
  {
   "cell_type": "code",
   "execution_count": 322,
   "id": "e6cf55af",
   "metadata": {},
   "outputs": [],
   "source": [
    "rf['price_usd'] = rf.price_usd.astype(int)"
   ]
  },
  {
   "cell_type": "code",
   "execution_count": 323,
   "id": "724ad71b",
   "metadata": {},
   "outputs": [],
   "source": [
    "price_cat = []\n",
    "\n",
    "\n",
    "for i in rf['price_usd']:\n",
    "    if i < 50:\n",
    "        price_cat.append('Less than 50')\n",
    "    elif i > 49 and i <100:\n",
    "        price_cat.append('50 - 99')\n",
    "    elif i > 99 and i <150:\n",
    "        price_cat.append('100 - 149')\n",
    "    elif i > 149 and i <200:\n",
    "        price_cat.append('150 - 199')\n",
    "    elif i > 199 and i <250:\n",
    "        price_cat.append('200 - 249')\n",
    "    elif i > 249 and i <300:\n",
    "        price_cat.append('250 - 299')\n",
    "    elif i > 299 and i <350:\n",
    "        price_cat.append('300 - 349')\n",
    "    elif i > 349 and i <400:\n",
    "        price_cat.append('350 - 399')\n",
    "    elif i > 399 and i <450:\n",
    "        price_cat.append('400 - 449')\n",
    "    elif i > 449 and i <=500:\n",
    "        price_cat.append('450 - 500')"
   ]
  },
  {
   "cell_type": "code",
   "execution_count": 324,
   "id": "40c3c402",
   "metadata": {},
   "outputs": [],
   "source": [
    "rf['price_cat'] = price_cat"
   ]
  },
  {
   "cell_type": "code",
   "execution_count": 325,
   "id": "18496a82",
   "metadata": {},
   "outputs": [
    {
     "data": {
      "text/plain": [
       "50 - 99         60591\n",
       "Less than 50    54054\n",
       "100 - 149       31582\n",
       "150 - 199       15371\n",
       "200 - 249        7512\n",
       "250 - 299        4953\n",
       "300 - 349        3135\n",
       "350 - 399        2214\n",
       "400 - 449        1571\n",
       "450 - 500        1489\n",
       "Name: price_cat, dtype: int64"
      ]
     },
     "execution_count": 325,
     "metadata": {},
     "output_type": "execute_result"
    }
   ],
   "source": [
    "rf['price_cat'].value_counts()"
   ]
  },
  {
   "cell_type": "code",
   "execution_count": 327,
   "id": "a210df6f",
   "metadata": {},
   "outputs": [
    {
     "name": "stdout",
     "output_type": "stream",
     "text": [
      "Accuracy: 0.5797232497602411\n"
     ]
    }
   ],
   "source": [
    "from sklearn.ensemble import RandomForestClassifier\n",
    "from sklearn.metrics import accuracy_score\n",
    "from sklearn.metrics import confusion_matrix\n",
    "\n",
    "\n",
    "X = rf[['host_response_rate',\n",
    "       'host_acceptance_rate', 'host_is_superhost',\n",
    "       'host_total_listings_count', 'host_has_profile_pic',\n",
    "       'host_identity_verified', 'accommodates', 'minimum_nights',\n",
    "       'maximum_nights', 'review_scores_rating', 'review_scores_accuracy',\n",
    "       'review_scores_cleanliness', 'review_scores_checkin',\n",
    "       'review_scores_communication', 'review_scores_location',\n",
    "       'review_scores_value', 'instant_bookable',\n",
    "       'count_of_reviews', 'Bangkok', 'Cape Town', 'Hong Kong', 'Istanbul',\n",
    "       'Mexico City', 'New York', 'Paris', 'Rio de Janeiro', 'Rome', 'Sydney',\n",
    "       'Entire apartment', 'Entire condominium', 'Entire house',\n",
    "       'Private room in apartment', 'Private room in house', 'other',\n",
    "       'a few days or more', 'within a day', 'within a few hours',\n",
    "       'within an hour', 'baby bath', 'baby monitor', 'baby safety gates',\n",
    "       'babysitter recommendations', 'baking sheet', 'barbecue utensils',\n",
    "       'bathroom essentials', 'beach essentials', 'beachfront', 'bed linens',\n",
    "       'bedroom comforts', 'bidet', 'bikes', 'bluetooth sound system',\n",
    "       'board games', 'bread maker', 'building staff', 'ceiling fan',\n",
    "       'changing table', 'children’s books and toys', 'children’s dinnerware',\n",
    "       'cleaning before checkout', 'cleaning products', 'clothing storage',\n",
    "       'clothing storage: closet', 'clothing storage: wardrobe', 'conditioner',\n",
    "       'crib', 'dining table', 'drying rack for clothing', 'ev charger',\n",
    "       'elevator', 'essentials', 'ethernet connection',\n",
    "       'extra pillows and blankets', 'fire pit', 'fireplace guards',\n",
    "       'first aid kit', 'free parking garage on premises – 1 space',\n",
    "       'free residential garage on premises – 1 space', 'freezer',\n",
    "       'garden or backyard', 'high chair', 'indoor fireplace', 'keypad',\n",
    "       'lake access', 'laundromat nearby', 'lock on bedroom door',\n",
    "       'long term stays allowed', 'luggage dropoff allowed', 'mosquito net',\n",
    "       'nespresso machine', 'outdoor dining area','outdoor furniture', 'outdoor shower',\n",
    "       'outlet covers', 'pack ’n play/travel crib',\n",
    "       'paid parking garage off premises', 'paid parking lot off premises',\n",
    "       'paid parking on premises', 'paid street parking off premises',\n",
    "       'pets allowed', 'piano', 'portable fans', 'portable heater',\n",
    "       'private entrance', 'private living room', 'record player',\n",
    "       'rice maker', 'room-darkening shades', 'safe', 'self check-in',\n",
    "       'shower gel', 'single level home', 'ski-in/ski-out', 'smart lock',\n",
    "       'sound system', 'table corner guards', 'toaster', 'trash compactor',\n",
    "       'waterfront', 'window ac unit', 'window guards', 'wine glasses', 'tv',\n",
    "       'wifi', 'kitchen', 'hangers', 'heating', 'iron', 'hot water',\n",
    "       'dedicated workspace', 'shampoo', 'washer', 'air conditioning',\n",
    "       'smoke alarm', 'dishes and silverware', 'refrigerator', 'fridge',\n",
    "       'cooking basics', 'microwave', 'stove', 'coffee', 'oven',\n",
    "       'fire extinguisher', 'body soap', 'dryer', 'carbon monoxide alarm',\n",
    "       'free street parking', 'free parking on premises', 'host greets you',\n",
    "       'patio or balcony', 'paid parking off premises', 'pool', 'breakfast',\n",
    "       'gym', 'lockbox', 'bathtub', 'console', 'grill', 'hot tub']] \n",
    "\n",
    "y = rf['price_cat']                # dependent variable\n",
    "\n",
    "# split the data into training and test sets\n",
    "X_train, X_test, y_train, y_test = train_test_split(X, y, test_size=0.2, random_state=42)\n",
    "\n",
    "# create a Random Forest regression model\n",
    "rf_model = RandomForestClassifier(n_estimators=150, random_state=42)\n",
    "\n",
    "# train the model on the training data\n",
    "rf_model.fit(X_train, y_train)\n",
    "\n",
    "# predict on the test data\n",
    "y_pred = rf_model.predict(X_test)\n",
    "\n",
    "# compute the R2 score and RMSE\n",
    "accuracy = accuracy_score(y_test, y_pred)\n",
    "\n",
    "# Print the accuracy score of the model\n",
    "print('Accuracy:', accuracy)\n"
   ]
  },
  {
   "cell_type": "code",
   "execution_count": 328,
   "id": "e5d79332",
   "metadata": {},
   "outputs": [
    {
     "data": {
      "text/plain": [
       "['host_response_rate',\n",
       " 'host_acceptance_rate',\n",
       " 'host_is_superhost',\n",
       " 'host_total_listings_count',\n",
       " 'host_identity_verified',\n",
       " 'accommodates',\n",
       " 'minimum_nights',\n",
       " 'maximum_nights',\n",
       " 'review_scores_rating',\n",
       " 'review_scores_accuracy',\n",
       " 'review_scores_cleanliness',\n",
       " 'review_scores_checkin',\n",
       " 'review_scores_communication',\n",
       " 'review_scores_location',\n",
       " 'review_scores_value',\n",
       " 'instant_bookable',\n",
       " 'count_of_reviews',\n",
       " 'Bangkok',\n",
       " 'Istanbul',\n",
       " 'Mexico City',\n",
       " 'New York',\n",
       " 'Paris',\n",
       " 'Rio de Janeiro',\n",
       " 'Rome',\n",
       " 'Sydney',\n",
       " 'Entire apartment',\n",
       " 'Private room in apartment',\n",
       " 'within an hour',\n",
       " 'bed linens',\n",
       " 'elevator',\n",
       " 'extra pillows and blankets',\n",
       " 'first aid kit',\n",
       " 'lock on bedroom door',\n",
       " 'luggage dropoff allowed',\n",
       " 'private entrance',\n",
       " 'tv',\n",
       " 'hangers',\n",
       " 'heating',\n",
       " 'iron',\n",
       " 'hot water',\n",
       " 'dedicated workspace',\n",
       " 'shampoo',\n",
       " 'washer',\n",
       " 'air conditioning',\n",
       " 'smoke alarm',\n",
       " 'cooking basics',\n",
       " 'microwave',\n",
       " 'stove',\n",
       " 'coffee',\n",
       " 'oven',\n",
       " 'fire extinguisher',\n",
       " 'dryer',\n",
       " 'carbon monoxide alarm',\n",
       " 'free street parking',\n",
       " 'free parking on premises',\n",
       " 'host greets you',\n",
       " 'patio or balcony',\n",
       " 'paid parking off premises',\n",
       " 'breakfast']"
      ]
     },
     "execution_count": 328,
     "metadata": {},
     "output_type": "execute_result"
    }
   ],
   "source": [
    "importances = rf_model.feature_importances_\n",
    "\n",
    "importances = [X.columns[i] for i in range(len(importances)) if importances[i] >= importances.mean()]\n",
    "\n",
    "importances"
   ]
  },
  {
   "cell_type": "code",
   "execution_count": 329,
   "id": "d711e8c2",
   "metadata": {},
   "outputs": [
    {
     "name": "stdout",
     "output_type": "stream",
     "text": [
      "Accuracy: 0.5774215645978901\n"
     ]
    }
   ],
   "source": [
    "\n",
    "\n",
    "X = rf[['host_response_rate','host_acceptance_rate',\n",
    " 'host_is_superhost','host_total_listings_count','host_identity_verified','accommodates','minimum_nights','maximum_nights',\n",
    " 'review_scores_rating','review_scores_accuracy','review_scores_cleanliness','review_scores_checkin','review_scores_communication',\n",
    " 'review_scores_location','review_scores_value','instant_bookable','count_of_reviews','Bangkok','Istanbul','Mexico City','New York','Paris',\n",
    " 'Rio de Janeiro','Rome','Sydney','Entire apartment','Private room in apartment','within an hour','bed linens','elevator',\n",
    " 'extra pillows and blankets','first aid kit','lock on bedroom door','luggage dropoff allowed','private entrance','tv','hangers',\n",
    " 'heating','iron','hot water','dedicated workspace','shampoo','washer','air conditioning','smoke alarm',\n",
    " 'cooking basics','microwave','stove','coffee','oven','fire extinguisher','dryer','carbon monoxide alarm','free street parking',\n",
    " 'free parking on premises','host greets you','patio or balcony','paid parking off premises','breakfast']] \n",
    "\n",
    "y = rf['price_cat']                # dependent variable\n",
    "\n",
    "X_train, X_test, y_train, y_test = train_test_split(X, y, test_size=0.2, random_state=42)\n",
    "\n",
    "rf_model = RandomForestClassifier(n_estimators=150, random_state=42)\n",
    "\n",
    "rf_model.fit(X_train, y_train)\n",
    "\n",
    "y_pred = rf_model.predict(X_test)\n",
    "\n",
    "accuracy = accuracy_score(y_test, y_pred)\n",
    "\n",
    "print('Accuracy:', accuracy)\n"
   ]
  },
  {
   "cell_type": "code",
   "execution_count": 330,
   "id": "0f262779",
   "metadata": {},
   "outputs": [
    {
     "name": "stdout",
     "output_type": "stream",
     "text": [
      "Confusion matrix:\n",
      "[[2374  399   45   24    9    4    2    2 3334  232]\n",
      " [1206  558  114   40   14    5    1    3 1011   72]\n",
      " [ 525  298  156   42   28   15    3    6  342   35]\n",
      " [ 343  218  102   80   30   16    5   17  206   18]\n",
      " [ 205  144   60   44   42   19    7   10  118    9]\n",
      " [ 119   96   53   34   14   28    6   18   60    6]\n",
      " [  72   80   49   26   17   19   12   14   39    3]\n",
      " [  49   55   41   34   12   15    9   32   29    3]\n",
      " [1193  119   21    3    4    1    0    0 9085 1741]\n",
      " [  35    1    2    0    1    0    0    0 1947 8706]]\n"
     ]
    }
   ],
   "source": [
    "cm = confusion_matrix(y_test, y_pred)\n",
    "print(\"Confusion matrix:\")\n",
    "print(cm)"
   ]
  },
  {
   "cell_type": "code",
   "execution_count": 331,
   "id": "88001eeb",
   "metadata": {},
   "outputs": [],
   "source": [
    "test_tot = pd.concat([X_test,y_test,pd.DataFrame(y_pred)],axis = 1)"
   ]
  },
  {
   "cell_type": "code",
   "execution_count": 332,
   "id": "7a8645f1",
   "metadata": {},
   "outputs": [],
   "source": [
    "import matplotlib.pyplot as plt\n",
    "from collections import Counter\n",
    "\n",
    "desired_order = ['Less than 50', '50 - 99', '100 - 149','150 - 199','200 - 249','250 - 299','300 - 349',\n",
    "                '350 - 399','400 - 449','450 - 500']\n"
   ]
  },
  {
   "cell_type": "code",
   "execution_count": 333,
   "id": "7778c970",
   "metadata": {},
   "outputs": [],
   "source": [
    "y_test2 = pd.DataFrame(y_test)\n",
    "counts = dict(Counter(y_test2['price_cat']))\n",
    "counts = {key: counts[key] for key in desired_order}\n"
   ]
  },
  {
   "cell_type": "code",
   "execution_count": 338,
   "id": "e78782f2",
   "metadata": {},
   "outputs": [
    {
     "data": {
      "image/png": "[encoded data removed]",
      "text/plain": [
       "<Figure size 432x288 with 1 Axes>"
      ]
     },
     "metadata": {
      "needs_background": "light"
     },
     "output_type": "display_data"
    }
   ],
   "source": [
    "\n",
    "# Create bar chart\n",
    "fig, ax = plt.subplots()\n",
    "ax.bar(counts.keys(), counts.values())\n",
    "\n",
    "# Set axis labels and title\n",
    "ax.set_xlabel('Price ($)')\n",
    "ax.set_ylabel('Count')\n",
    "ax.set_title('Distribution of Actual Prices')\n",
    "plt.xticks(rotation=45)\n",
    "\n",
    "# Display the plot\n",
    "plt.show()\n"
   ]
  },
  {
   "cell_type": "code",
   "execution_count": 339,
   "id": "f38c59b5",
   "metadata": {},
   "outputs": [],
   "source": [
    "y_pred2 = pd.DataFrame(y_pred)\n",
    "counts = dict(Counter(y_pred2[0]))\n",
    "counts = {key: counts[key] for key in desired_order}\n"
   ]
  },
  {
   "cell_type": "code",
   "execution_count": 341,
   "id": "4d1ccd75",
   "metadata": {},
   "outputs": [
    {
     "data": {
      "image/png": "[encoded data removed]",
      "text/plain": [
       "<Figure size 432x288 with 1 Axes>"
      ]
     },
     "metadata": {
      "needs_background": "light"
     },
     "output_type": "display_data"
    }
   ],
   "source": [
    "# Create bar chart\n",
    "fig, ax = plt.subplots()\n",
    "ax.bar(counts.keys(), counts.values())\n",
    "\n",
    "# Set axis labels and title\n",
    "ax.set_xlabel('Price ($)')\n",
    "ax.set_ylabel('Count')\n",
    "ax.set_title('Distribution of Predicted Prices')\n",
    "plt.xticks(rotation=45)\n",
    "\n",
    "# Display the plot\n",
    "plt.show()"
   ]
  },
  {
   "cell_type": "code",
   "execution_count": 118,
   "id": "c690de1f",
   "metadata": {},
   "outputs": [
    {
     "name": "stdout",
     "output_type": "stream",
     "text": [
      "Accuracy: 0.56 (+/- 0.00)\n"
     ]
    }
   ],
   "source": [
    "from sklearn.model_selection import cross_val_score, KFold\n",
    "\n",
    "\n",
    "\n",
    "X = rf[['host_response_rate',\n",
    " 'host_acceptance_rate','host_is_superhost','host_total_listings_count','host_identity_verified',\n",
    " 'accommodates','minimum_nights','maximum_nights','review_scores_rating','review_scores_accuracy','review_scores_cleanliness',\n",
    " 'review_scores_checkin','review_scores_communication','review_scores_location','review_scores_value','instant_bookable','Bangkok','Istanbul','Mexico City','New York','Paris','Rio de Janeiro',\n",
    " 'Rome','Entire apartment','Private room in apartment','within an hour','bed linens','elevator','extra pillows and blankets',\n",
    " 'first aid kit','lock on bedroom door','long term stays allowed','luggage dropoff allowed','private entrance','tv',\n",
    " 'hangers','heating','iron','hot water','dedicated workspace','shampoo','washer','air conditioning','smoke alarm',\n",
    " 'dishes and silverware','cooking basics','microwave',\n",
    " 'stove','coffee','oven','fire extinguisher','dryer','carbon monoxide alarm','free street parking',\n",
    " 'free parking on premises','host greets you','patio or balcony','paid parking off premises','breakfast']] \n",
    "\n",
    "\n",
    "y = rf['price_cat']  \n",
    "\n",
    "rf_model = RandomForestClassifier(n_estimators=150, random_state=42)\n",
    "\n",
    "kf = KFold(n_splits=6, shuffle=True, random_state=42)\n",
    "\n",
    "scores = cross_val_score(rf_model, X, y, cv=kf)\n",
    "\n",
    "print(\"Accuracy: %0.2f (+/- %0.2f)\" % (scores.mean(), scores.std() * 2))"
   ]
  },
  {
   "cell_type": "markdown",
   "id": "b46c8c12",
   "metadata": {},
   "source": [
    "## Ensemble"
   ]
  },
  {
   "cell_type": "code",
   "execution_count": 124,
   "id": "ea9422cc",
   "metadata": {},
   "outputs": [
    {
     "name": "stdout",
     "output_type": "stream",
     "text": [
      "Accuracy: 0.52 (+/- 0.01)\n"
     ]
    }
   ],
   "source": [
    "from sklearn.ensemble import RandomForestClassifier, VotingClassifier\n",
    "\n",
    "X_train, X_test, y_train, y_test = train_test_split(X, y, test_size=0.3, random_state=42)\n",
    "\n",
    "rfc1 = RandomForestClassifier(n_estimators=50, max_depth=5)\n",
    "rfc2 = RandomForestClassifier(n_estimators=100, max_depth=10)\n",
    "rfc3 = RandomForestClassifier(n_estimators=200, max_depth=15)\n",
    "\n",
    "# Create an ensemble of the three classifiers\n",
    "ensemble = VotingClassifier(estimators=[('rfc1', rfc1), ('rfc2', rfc2), ('rfc3', rfc3)], voting='hard')\n",
    "\n",
    "# Train the ensemble on the training data\n",
    "kf = KFold(n_splits=5, shuffle=True, random_state=42)\n",
    "\n",
    "scores = cross_val_score(ensemble, X, y, cv=kf)\n",
    "\n",
    "print(\"Accuracy: %0.2f (+/- %0.2f)\" % (scores.mean(), scores.std() * 2))"
   ]
  },
  {
   "cell_type": "markdown",
   "id": "213d9b77",
   "metadata": {},
   "source": [
    "## Variables seen together"
   ]
  },
  {
   "cell_type": "code",
   "execution_count": 344,
   "id": "f50c6afa",
   "metadata": {},
   "outputs": [],
   "source": [
    "lr_vars = ['host_response_rate', 'host_acceptance_rate', 'host_is_superhost', 'host_total_listings_count', \n",
    "        'host_has_profile_pic', 'host_identity_verified', 'accommodates', 'review_scores_rating', 'review_scores_accuracy',\n",
    "        'review_scores_cleanliness', 'review_scores_checkin', 'review_scores_communication', 'review_scores_location',\n",
    "        'review_scores_value', 'instant_bookable', 'count_of_reviews', 'Bangkok', 'Cape Town', 'Hong Kong', 'Istanbul', \n",
    "        'Mexico City', 'New York', 'Paris', 'Rio de Janeiro', 'Rome', 'Sydney', 'Entire apartment', 'Entire house',\n",
    "        'Private room in apartment', 'Private room in house', 'within a day', 'within a few hours', 'within an hour',\n",
    "        'baby bath', 'baby monitor', 'babysitter recommendations', 'bathroom essentials', 'beach essentials',\n",
    "        'beachfront', 'bedroom comforts', 'bidet', 'bluetooth sound system', 'board games', 'bread maker', 'building staff',\n",
    "        'ceiling fan', 'changing table', 'children’s books and toys', 'children’s dinnerware', 'cleaning before checkout',\n",
    "        'cleaning products', 'clothing storage: closet', 'clothing storage: wardrobe', 'crib', 'drying rack for clothing',\n",
    "        'elevator', 'essentials', 'extra pillows and blankets', 'fire pit', 'first aid kit',\n",
    "        'free residential garage on premises – 1 space', 'garden or backyard', 'indoor fireplace', 'keypad', 'lake access',\n",
    "        'laundromat nearby', 'lock on bedroom door', 'nespresso machine', 'outdoor furniture', 'outdoor shower',\n",
    "        'outlet covers', 'pack ’n play/travel crib', 'pets allowed', 'piano', 'portable fans', 'private entrance',\n",
    "        'rice maker', 'self check-in', 'shower gel', 'single level home', 'smart lock', 'sound system', 'waterfront',\n",
    "        'window guards', 'tv', 'wifi', 'kitchen', 'heating', 'hot water', 'dedicated workspace', 'shampoo', 'washer',\n",
    "        'air conditioning', 'smoke alarm', 'refrigerator', 'cooking basics', 'microwave', 'stove', 'coffee', 'oven',\n",
    "        'fire extinguisher', 'body soap', 'dryer', 'carbon monoxide alarm', 'free street parking', 'free parking on premises',\n",
    "        'host greets you', 'patio or balcony', 'paid parking off premises', 'pool', 'lockbox', 'bathtub', 'console', 'grill',\n",
    "        'hot tub']\n",
    "\n",
    "rf_vars =  ['host_response_rate',\n",
    " 'host_acceptance_rate','host_total_listings_count','accommodates',\n",
    " 'minimum_nights','maximum_nights','review_scores_rating','review_scores_cleanliness','review_scores_location',\n",
    " 'review_scores_value','count_of_reviews','Istanbul','New York','Paris','Rio de Janeiro', 'Rome','Sydney','Entire apartment','other',\n",
    " 'elevator','indoor fireplace','heating','washer','air conditioning','free parking on premises']"
   ]
  },
  {
   "cell_type": "code",
   "execution_count": 347,
   "id": "c28090f6",
   "metadata": {},
   "outputs": [],
   "source": [
    "similar_vars = []\n",
    "\n",
    "for i in rf_vars:\n",
    "    if i in lr_vars:\n",
    "        similar_vars.append(i)"
   ]
  },
  {
   "cell_type": "code",
   "execution_count": 349,
   "id": "36fa4c60",
   "metadata": {},
   "outputs": [
    {
     "data": {
      "text/plain": [
       "22"
      ]
     },
     "execution_count": 349,
     "metadata": {},
     "output_type": "execute_result"
    }
   ],
   "source": [
    "len(similar_vars)"
   ]
  },
  {
   "cell_type": "markdown",
   "id": "ec5f5bd9",
   "metadata": {},
   "source": [
    "## Vars of Interest\n",
    "\n",
    "Host response rate, acceptance rate and total listings\n",
    "\n",
    "Accomodates\n",
    "\n",
    "Min/max nights\n",
    "\n",
    "All review sections except check-in\n",
    "\n",
    "Locations (New York, Istanbul, Paris, Rio De Janeiro, Rome, and Sydney\n",
    "\n",
    "Amenites:\n",
    "\n",
    "    -elevator\n",
    "    \n",
    "    -indoor fireplace\n",
    "    \n",
    "    -heating\n",
    "    \n",
    "    -washer\n",
    "    \n",
    "    -AC\n",
    "    \n",
    "    -free parking on premises"
   ]
  },
  {
   "cell_type": "code",
   "execution_count": null,
   "id": "0fae4da9",
   "metadata": {},
   "outputs": [],
   "source": [
    "price_cat = []\n",
    "\n",
    "for i in listings['price']:\n",
    "    if i < 50:\n",
    "        price_cat.append('Less than 50')\n",
    "    elif i > 49 & i <100:\n",
    "        price_cat.append('50 - 99')\n",
    "    elif i > 99 & i <150:\n",
    "        price_cat.append('100 - 149')\n",
    "    elif i > 149 & i <200:\n",
    "        price_cat.append('150 - 199')\n",
    "    elif i > 199 & i <250:\n",
    "        price_cat.append('200 - 249')\n",
    "    elif i > 249 & i <300:\n",
    "        price_cat.append('250 - 299')\n",
    "    elif i > 299 & i <350:\n",
    "        price_cat.append('300 - 349')\n",
    "    elif i > 349 & i <400:\n",
    "        price_cat.append('350 - 399')\n",
    "    elif i > 399 & i <450:\n",
    "        price_cat.append('400 - 449')\n",
    "    elif i > 449 & i <500:\n",
    "        price_cat.append('450 - 500')\n",
    "\n",
    "listings['price_cat'] = price_cat"
   ]
  },
  {
   "cell_type": "code",
   "execution_count": null,
   "id": "569155e8",
   "metadata": {},
   "outputs": [],
   "source": [
    "listings.head()"
   ]
  },
  {
   "cell_type": "code",
   "execution_count": 117,
   "id": "c8594db7",
   "metadata": {},
   "outputs": [],
   "source": [
    "listings.to_csv('C:/Users/rober/OneDrive/Documents/Spring23/DSA610/airbnb_tableau.csv')"
   ]
  },
  {
   "cell_type": "code",
   "execution_count": 157,
   "id": "3b174779",
   "metadata": {},
   "outputs": [],
   "source": [
    "listings.to_csv('C:/Users/rober/OneDrive/Documents/Spring23/DSA610/airbnb_tableau.csv')"
   ]
  },
  {
   "cell_type": "code",
   "execution_count": 158,
   "id": "a48d4d32",
   "metadata": {},
   "outputs": [],
   "source": [
    "reviews.to_csv('C:/Users/rober/OneDrive/Documents/Spring23/DSA610/airbnb_tableau_review.csv')"
   ]
  },
  {
   "cell_type": "code",
   "execution_count": null,
   "id": "9d349b28",
   "metadata": {},
   "outputs": [],
   "source": []
  }
 ],
 "metadata": {
  "kernelspec": {
   "display_name": "Python 3",
   "language": "python",
   "name": "python3"
  },
  "language_info": {
   "codemirror_mode": {
    "name": "ipython",
    "version": 3
   },
   "file_extension": ".py",
   "mimetype": "text/x-python",
   "name": "python",
   "nbconvert_exporter": "python",
   "pygments_lexer": "ipython3",
   "version": "3.8.8"
  }
 },
 "nbformat": 4,
 "nbformat_minor": 5
}
